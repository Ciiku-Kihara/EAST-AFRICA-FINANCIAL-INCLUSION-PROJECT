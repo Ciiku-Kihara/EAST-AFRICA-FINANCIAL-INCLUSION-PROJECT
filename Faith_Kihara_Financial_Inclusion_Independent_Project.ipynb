{
  "nbformat": 4,
  "nbformat_minor": 0,
  "metadata": {
    "colab": {
      "name": "Faith_Kihara_Financial_Inclusion_Independent_Project",
      "provenance": [],
      "toc_visible": true,
      "authorship_tag": "ABX9TyMqCsuRbYPcMOA2ihABPNGh",
      "include_colab_link": true
    },
    "kernelspec": {
      "name": "python3",
      "display_name": "Python 3"
    }
  },
  "cells": [
    {
      "cell_type": "markdown",
      "metadata": {
        "id": "view-in-github",
        "colab_type": "text"
      },
      "source": [
        "<a href=\"https://colab.research.google.com/github/Ciiku-Kihara/EAST-AFRICA-FINANCIAL-INCLUSION-PROJECT/blob/main/Faith_Kihara_Financial_Inclusion_Independent_Project.ipynb\" target=\"_parent\"><img src=\"https://colab.research.google.com/assets/colab-badge.svg\" alt=\"Open In Colab\"/></a>"
      ]
    },
    {
      "cell_type": "markdown",
      "metadata": {
        "id": "5Yf1d_CIQObw"
      },
      "source": [
        "## 1. Defining the Question"
      ]
    },
    {
      "cell_type": "markdown",
      "metadata": {
        "id": "mMMSMRAaQWjx"
      },
      "source": [
        "### a) Specifying the analysis question"
      ]
    },
    {
      "cell_type": "markdown",
      "metadata": {
        "id": "hYkRBZeGSWsc"
      },
      "source": [
        "> Determine which factors most affect whether or not individuals have a bank account and hence determine which individuals are most likely to have or use a bank account"
      ]
    },
    {
      "cell_type": "markdown",
      "metadata": {
        "id": "iAy_YB13QkTE"
      },
      "source": [
        "### b) Defining the metric for success"
      ]
    },
    {
      "cell_type": "markdown",
      "metadata": {
        "id": "Y29u8pNJCeG9"
      },
      "source": [
        "> Be able to correctly determine the number of principal components that should be used in building the final model"
      ]
    },
    {
      "cell_type": "markdown",
      "metadata": {
        "id": "rzfXk1ILQptu"
      },
      "source": [
        "### c) Understanding the context"
      ]
    },
    {
      "cell_type": "markdown",
      "metadata": {
        "id": "rxxJvewFH0BA"
      },
      "source": [
        "> According to World Bank, financial inclusion means that individuals and businesses have access to useful and affordable financial products and services that meet their needs – transactions, payments, savings, credit and insurance – delivered in a responsible and sustainable way. \r\n",
        "Financial inclusion is a key enabler to reducing poverty and boosting prosperity.\r\n",
        "Being able to have access to a transaction account is a first step toward broader financial inclusion since a transaction account allows people to store money, and send and receive payments.\r\n",
        "\r\n",
        "> According to Global Findex Database, 54% of all adults throughout the developing countries have a bank account, an increase of 13 points compared to 2011.\r\n",
        "\r\n",
        "> According to research done by World bank, the main factors that determine financial inclusion include income of individuals or households, education,  being in an employment guarantee scheme, income inequality, age and financial literacy.\r\n",
        "\r\n",
        "\r\n",
        "> Financial inclusion has continued to deepen over the years in the East African region mainly because of technology and innovation, an enabling government policy and regulatory environment, and infrastructure improvements.\r\n",
        "In Sub-Saharan Africa, 44 per cent of the population subscribed to mobile services in 2017.\r\n",
        "Mobile banking services for example banking apps and M-shwari have greatly increased bank account ownership in East Africa. This has made making transactions more convenient.\r\n",
        "\r\n",
        "> Inspite of all these developments, there is still alot to be done. For the countries mentioned in this analysis(Rwanda, Kenya, Uganda and Tanzania), the rural population and illiteracy is quite high. Hence the need to determine the factors that can be targeted to ensure that there is greater financial inclusion in East Africa.\r\n"
      ]
    },
    {
      "cell_type": "markdown",
      "metadata": {
        "id": "EQz_4UkiQzfA"
      },
      "source": [
        "### d) Recording the experimental design"
      ]
    },
    {
      "cell_type": "markdown",
      "metadata": {
        "id": "HTjUWMX1DmIB"
      },
      "source": [
        "> CRISP DM methodology was used in this analysis. \r\n",
        "The steps included in business understanding include:\r\n",
        "- Business Understanding\r\n",
        "- Data Understanding\r\n",
        "- Analysis\r\n",
        "- Recommendation\r\n",
        "- Evaluation"
      ]
    },
    {
      "cell_type": "markdown",
      "metadata": {
        "id": "b9hfMa1bQ69v"
      },
      "source": [
        "### e) Data relevance"
      ]
    },
    {
      "cell_type": "markdown",
      "metadata": {
        "id": "ywkBESNvEOWp"
      },
      "source": [
        "> The data is relevant to my analysis. However, more information would have been even more relevant."
      ]
    },
    {
      "cell_type": "markdown",
      "metadata": {
        "id": "qRHOAJ3XSxCg"
      },
      "source": [
        "## 2. Importing relevant libraries"
      ]
    },
    {
      "cell_type": "code",
      "metadata": {
        "id": "ICWuNDngNrCl"
      },
      "source": [
        "# Importing the pandas library\r\n",
        "import pandas as pd\r\n",
        "\r\n",
        "# Importing the numpy library\r\n",
        "import numpy as np\r\n",
        "\r\n",
        "# Importing the matplotlib\r\n",
        "import matplotlib.pyplot as plt\r\n",
        "\r\n",
        "# Importing seaborn\r\n",
        "import seaborn as sns"
      ],
      "execution_count": 256,
      "outputs": []
    },
    {
      "cell_type": "markdown",
      "metadata": {
        "id": "vEYYjlWPRBxc"
      },
      "source": [
        "## 3. Loading the data"
      ]
    },
    {
      "cell_type": "code",
      "metadata": {
        "colab": {
          "base_uri": "https://localhost:8080/",
          "height": 402
        },
        "id": "v7Y4nm1-OWCl",
        "outputId": "774c51b0-866d-4dd7-e4e9-35d9452b332c"
      },
      "source": [
        "# Loading the column descriptions for the main dataset.\r\n",
        "\r\n",
        "url_1 = 'http://bit.ly/VariableDefinitions'\r\n",
        "url_2 = 'http://bit.ly/FinancialDataset'\r\n",
        "\r\n",
        "definition = pd.read_csv(url_1)\r\n",
        "\r\n",
        "definition"
      ],
      "execution_count": 257,
      "outputs": [
        {
          "output_type": "execute_result",
          "data": {
            "text/html": [
              "<div>\n",
              "<style scoped>\n",
              "    .dataframe tbody tr th:only-of-type {\n",
              "        vertical-align: middle;\n",
              "    }\n",
              "\n",
              "    .dataframe tbody tr th {\n",
              "        vertical-align: top;\n",
              "    }\n",
              "\n",
              "    .dataframe thead th {\n",
              "        text-align: right;\n",
              "    }\n",
              "</style>\n",
              "<table border=\"1\" class=\"dataframe\">\n",
              "  <thead>\n",
              "    <tr style=\"text-align: right;\">\n",
              "      <th></th>\n",
              "      <th>Variable Definitions</th>\n",
              "      <th>Unnamed: 1</th>\n",
              "    </tr>\n",
              "  </thead>\n",
              "  <tbody>\n",
              "    <tr>\n",
              "      <th>0</th>\n",
              "      <td>country</td>\n",
              "      <td>Country interviewee is in.</td>\n",
              "    </tr>\n",
              "    <tr>\n",
              "      <th>1</th>\n",
              "      <td>year</td>\n",
              "      <td>Year survey was done in.</td>\n",
              "    </tr>\n",
              "    <tr>\n",
              "      <th>2</th>\n",
              "      <td>uniqueid</td>\n",
              "      <td>Unique identifier for each interviewee</td>\n",
              "    </tr>\n",
              "    <tr>\n",
              "      <th>3</th>\n",
              "      <td>location_type</td>\n",
              "      <td>Type of location: Rural, Urban</td>\n",
              "    </tr>\n",
              "    <tr>\n",
              "      <th>4</th>\n",
              "      <td>cellphone_access</td>\n",
              "      <td>If interviewee has access to a cellphone: Yes, No</td>\n",
              "    </tr>\n",
              "    <tr>\n",
              "      <th>5</th>\n",
              "      <td>household_size</td>\n",
              "      <td>Number of people living in one house</td>\n",
              "    </tr>\n",
              "    <tr>\n",
              "      <th>6</th>\n",
              "      <td>age_of_respondent</td>\n",
              "      <td>The age of the interviewee</td>\n",
              "    </tr>\n",
              "    <tr>\n",
              "      <th>7</th>\n",
              "      <td>gender_of_respondent</td>\n",
              "      <td>Gender of interviewee: Male, Female</td>\n",
              "    </tr>\n",
              "    <tr>\n",
              "      <th>8</th>\n",
              "      <td>relationship_with_head</td>\n",
              "      <td>The interviewee’s relationship with the head o...</td>\n",
              "    </tr>\n",
              "    <tr>\n",
              "      <th>9</th>\n",
              "      <td>marital_status</td>\n",
              "      <td>The martial status of the interviewee: Married...</td>\n",
              "    </tr>\n",
              "    <tr>\n",
              "      <th>10</th>\n",
              "      <td>education_level</td>\n",
              "      <td>Highest level of education: No formal educatio...</td>\n",
              "    </tr>\n",
              "    <tr>\n",
              "      <th>11</th>\n",
              "      <td>job_type</td>\n",
              "      <td>Type of job interviewee has: Farming and Fishi...</td>\n",
              "    </tr>\n",
              "  </tbody>\n",
              "</table>\n",
              "</div>"
            ],
            "text/plain": [
              "      Variable Definitions                                         Unnamed: 1\n",
              "0                  country                         Country interviewee is in.\n",
              "1                     year                           Year survey was done in.\n",
              "2                 uniqueid             Unique identifier for each interviewee\n",
              "3            location_type                     Type of location: Rural, Urban\n",
              "4         cellphone_access  If interviewee has access to a cellphone: Yes, No\n",
              "5           household_size               Number of people living in one house\n",
              "6        age_of_respondent                         The age of the interviewee\n",
              "7     gender_of_respondent                Gender of interviewee: Male, Female\n",
              "8   relationship_with_head  The interviewee’s relationship with the head o...\n",
              "9           marital_status  The martial status of the interviewee: Married...\n",
              "10         education_level  Highest level of education: No formal educatio...\n",
              "11                job_type  Type of job interviewee has: Farming and Fishi..."
            ]
          },
          "metadata": {
            "tags": []
          },
          "execution_count": 257
        }
      ]
    },
    {
      "cell_type": "code",
      "metadata": {
        "id": "H4G0IBXetCKj"
      },
      "source": [
        "definition.to_csv('Financial Variable Definitions.csv')"
      ],
      "execution_count": 258,
      "outputs": []
    },
    {
      "cell_type": "code",
      "metadata": {
        "colab": {
          "base_uri": "https://localhost:8080/",
          "height": 615
        },
        "id": "kBQxkcPaPB5w",
        "outputId": "6534a9b4-299b-4dee-8ffb-7b5dbe9dc5fa"
      },
      "source": [
        "# Loding the main dataset\r\n",
        "financial = pd.read_csv(url_2)\r\n",
        "\r\n",
        "financial.head(10)"
      ],
      "execution_count": 259,
      "outputs": [
        {
          "output_type": "execute_result",
          "data": {
            "text/html": [
              "<div>\n",
              "<style scoped>\n",
              "    .dataframe tbody tr th:only-of-type {\n",
              "        vertical-align: middle;\n",
              "    }\n",
              "\n",
              "    .dataframe tbody tr th {\n",
              "        vertical-align: top;\n",
              "    }\n",
              "\n",
              "    .dataframe thead th {\n",
              "        text-align: right;\n",
              "    }\n",
              "</style>\n",
              "<table border=\"1\" class=\"dataframe\">\n",
              "  <thead>\n",
              "    <tr style=\"text-align: right;\">\n",
              "      <th></th>\n",
              "      <th>country</th>\n",
              "      <th>year</th>\n",
              "      <th>uniqueid</th>\n",
              "      <th>Has a Bank account</th>\n",
              "      <th>Type of Location</th>\n",
              "      <th>Cell Phone Access</th>\n",
              "      <th>household_size</th>\n",
              "      <th>Respondent Age</th>\n",
              "      <th>gender_of_respondent</th>\n",
              "      <th>The relathip with head</th>\n",
              "      <th>marital_status</th>\n",
              "      <th>Level of Educuation</th>\n",
              "      <th>Type of Job</th>\n",
              "    </tr>\n",
              "  </thead>\n",
              "  <tbody>\n",
              "    <tr>\n",
              "      <th>0</th>\n",
              "      <td>Kenya</td>\n",
              "      <td>2018</td>\n",
              "      <td>uniqueid_1</td>\n",
              "      <td>Yes</td>\n",
              "      <td>Rural</td>\n",
              "      <td>Yes</td>\n",
              "      <td>3.0</td>\n",
              "      <td>24.0</td>\n",
              "      <td>Female</td>\n",
              "      <td>Spouse</td>\n",
              "      <td>Married/Living together</td>\n",
              "      <td>Secondary education</td>\n",
              "      <td>Self employed</td>\n",
              "    </tr>\n",
              "    <tr>\n",
              "      <th>1</th>\n",
              "      <td>Kenya</td>\n",
              "      <td>2018</td>\n",
              "      <td>uniqueid_2</td>\n",
              "      <td>No</td>\n",
              "      <td>Rural</td>\n",
              "      <td>No</td>\n",
              "      <td>5.0</td>\n",
              "      <td>70.0</td>\n",
              "      <td>Female</td>\n",
              "      <td>Head of Household</td>\n",
              "      <td>Widowed</td>\n",
              "      <td>No formal education</td>\n",
              "      <td>Government Dependent</td>\n",
              "    </tr>\n",
              "    <tr>\n",
              "      <th>2</th>\n",
              "      <td>Kenya</td>\n",
              "      <td>2018</td>\n",
              "      <td>uniqueid_3</td>\n",
              "      <td>Yes</td>\n",
              "      <td>Urban</td>\n",
              "      <td>Yes</td>\n",
              "      <td>5.0</td>\n",
              "      <td>26.0</td>\n",
              "      <td>Male</td>\n",
              "      <td>Other relative</td>\n",
              "      <td>Single/Never Married</td>\n",
              "      <td>Vocational/Specialised training</td>\n",
              "      <td>Self employed</td>\n",
              "    </tr>\n",
              "    <tr>\n",
              "      <th>3</th>\n",
              "      <td>Kenya</td>\n",
              "      <td>2018</td>\n",
              "      <td>uniqueid_4</td>\n",
              "      <td>No</td>\n",
              "      <td>Rural</td>\n",
              "      <td>Yes</td>\n",
              "      <td>5.0</td>\n",
              "      <td>34.0</td>\n",
              "      <td>Female</td>\n",
              "      <td>Head of Household</td>\n",
              "      <td>Married/Living together</td>\n",
              "      <td>Primary education</td>\n",
              "      <td>Formally employed Private</td>\n",
              "    </tr>\n",
              "    <tr>\n",
              "      <th>4</th>\n",
              "      <td>Kenya</td>\n",
              "      <td>2018</td>\n",
              "      <td>uniqueid_5</td>\n",
              "      <td>No</td>\n",
              "      <td>Urban</td>\n",
              "      <td>No</td>\n",
              "      <td>8.0</td>\n",
              "      <td>26.0</td>\n",
              "      <td>Male</td>\n",
              "      <td>Child</td>\n",
              "      <td>Single/Never Married</td>\n",
              "      <td>Primary education</td>\n",
              "      <td>Informally employed</td>\n",
              "    </tr>\n",
              "    <tr>\n",
              "      <th>5</th>\n",
              "      <td>Kenya</td>\n",
              "      <td>2018</td>\n",
              "      <td>uniqueid_6</td>\n",
              "      <td>No</td>\n",
              "      <td>Rural</td>\n",
              "      <td>No</td>\n",
              "      <td>7.0</td>\n",
              "      <td>26.0</td>\n",
              "      <td>Female</td>\n",
              "      <td>Spouse</td>\n",
              "      <td>Married/Living together</td>\n",
              "      <td>Primary education</td>\n",
              "      <td>Informally employed</td>\n",
              "    </tr>\n",
              "    <tr>\n",
              "      <th>6</th>\n",
              "      <td>Kenya</td>\n",
              "      <td>2018</td>\n",
              "      <td>uniqueid_7</td>\n",
              "      <td>No</td>\n",
              "      <td>Rural</td>\n",
              "      <td>Yes</td>\n",
              "      <td>7.0</td>\n",
              "      <td>32.0</td>\n",
              "      <td>Female</td>\n",
              "      <td>Spouse</td>\n",
              "      <td>Married/Living together</td>\n",
              "      <td>Primary education</td>\n",
              "      <td>Self employed</td>\n",
              "    </tr>\n",
              "    <tr>\n",
              "      <th>7</th>\n",
              "      <td>Kenya</td>\n",
              "      <td>2018</td>\n",
              "      <td>uniqueid_8</td>\n",
              "      <td>No</td>\n",
              "      <td>Rural</td>\n",
              "      <td>Yes</td>\n",
              "      <td>1.0</td>\n",
              "      <td>42.0</td>\n",
              "      <td>Female</td>\n",
              "      <td>Head of Household</td>\n",
              "      <td>Married/Living together</td>\n",
              "      <td>Tertiary education</td>\n",
              "      <td>Formally employed Government</td>\n",
              "    </tr>\n",
              "    <tr>\n",
              "      <th>8</th>\n",
              "      <td>Kenya</td>\n",
              "      <td>2018</td>\n",
              "      <td>uniqueid_9</td>\n",
              "      <td>Yes</td>\n",
              "      <td>Rural</td>\n",
              "      <td>Yes</td>\n",
              "      <td>3.0</td>\n",
              "      <td>54.0</td>\n",
              "      <td>Male</td>\n",
              "      <td>Head of Household</td>\n",
              "      <td>Married/Living together</td>\n",
              "      <td>Secondary education</td>\n",
              "      <td>Farming and Fishing</td>\n",
              "    </tr>\n",
              "    <tr>\n",
              "      <th>9</th>\n",
              "      <td>Kenya</td>\n",
              "      <td>2018</td>\n",
              "      <td>uniqueid_10</td>\n",
              "      <td>No</td>\n",
              "      <td>Urban</td>\n",
              "      <td>Yes</td>\n",
              "      <td>3.0</td>\n",
              "      <td>76.0</td>\n",
              "      <td>Female</td>\n",
              "      <td>Head of Household</td>\n",
              "      <td>Divorced/Seperated</td>\n",
              "      <td>No formal education</td>\n",
              "      <td>Remittance Dependent</td>\n",
              "    </tr>\n",
              "  </tbody>\n",
              "</table>\n",
              "</div>"
            ],
            "text/plain": [
              "  country  year  ...              Level of Educuation                   Type of Job\n",
              "0   Kenya  2018  ...              Secondary education                 Self employed\n",
              "1   Kenya  2018  ...              No formal education          Government Dependent\n",
              "2   Kenya  2018  ...  Vocational/Specialised training                 Self employed\n",
              "3   Kenya  2018  ...                Primary education     Formally employed Private\n",
              "4   Kenya  2018  ...                Primary education           Informally employed\n",
              "5   Kenya  2018  ...                Primary education           Informally employed\n",
              "6   Kenya  2018  ...                Primary education                 Self employed\n",
              "7   Kenya  2018  ...               Tertiary education  Formally employed Government\n",
              "8   Kenya  2018  ...              Secondary education           Farming and Fishing\n",
              "9   Kenya  2018  ...              No formal education          Remittance Dependent\n",
              "\n",
              "[10 rows x 13 columns]"
            ]
          },
          "metadata": {
            "tags": []
          },
          "execution_count": 259
        }
      ]
    },
    {
      "cell_type": "markdown",
      "metadata": {
        "id": "2uT7WHMJRi8A"
      },
      "source": [
        "## 4. Checking the data"
      ]
    },
    {
      "cell_type": "code",
      "metadata": {
        "colab": {
          "base_uri": "https://localhost:8080/"
        },
        "id": "q6Wi3FnUVKm9",
        "outputId": "9fafe24f-cce2-4757-fbdc-3946c1180d79"
      },
      "source": [
        "# Determining the number of rows and columns in our dataset\r\n",
        "\r\n",
        "financial.shape\r\n",
        "\r\n",
        "# The main dataset contains 23,534 rows(observations) and  \r\n",
        "# 13 columns(attributes)"
      ],
      "execution_count": 260,
      "outputs": [
        {
          "output_type": "execute_result",
          "data": {
            "text/plain": [
              "(23524, 13)"
            ]
          },
          "metadata": {
            "tags": []
          },
          "execution_count": 260
        }
      ]
    },
    {
      "cell_type": "code",
      "metadata": {
        "colab": {
          "base_uri": "https://localhost:8080/"
        },
        "id": "TRmpSk4GYZbY",
        "outputId": "5e7884cc-978f-42e2-960f-cdbfbbcc9486"
      },
      "source": [
        "# Looking at the exact columns\r\n",
        "\r\n",
        "financial.columns"
      ],
      "execution_count": 261,
      "outputs": [
        {
          "output_type": "execute_result",
          "data": {
            "text/plain": [
              "Index(['country', 'year', 'uniqueid', 'Has a Bank account', 'Type of Location',\n",
              "       'Cell Phone Access', 'household_size', 'Respondent Age',\n",
              "       'gender_of_respondent', 'The relathip with head', 'marital_status',\n",
              "       'Level of Educuation', 'Type of Job'],\n",
              "      dtype='object')"
            ]
          },
          "metadata": {
            "tags": []
          },
          "execution_count": 261
        }
      ]
    },
    {
      "cell_type": "code",
      "metadata": {
        "colab": {
          "base_uri": "https://localhost:8080/",
          "height": 366
        },
        "id": "L-wga_jkVfrx",
        "outputId": "a1c32971-2607-4b97-8b51-b4d30191f758"
      },
      "source": [
        "# Getting a glimpse of the first 5 rows of the dataset\r\n",
        "\r\n",
        "financial.head()"
      ],
      "execution_count": 262,
      "outputs": [
        {
          "output_type": "execute_result",
          "data": {
            "text/html": [
              "<div>\n",
              "<style scoped>\n",
              "    .dataframe tbody tr th:only-of-type {\n",
              "        vertical-align: middle;\n",
              "    }\n",
              "\n",
              "    .dataframe tbody tr th {\n",
              "        vertical-align: top;\n",
              "    }\n",
              "\n",
              "    .dataframe thead th {\n",
              "        text-align: right;\n",
              "    }\n",
              "</style>\n",
              "<table border=\"1\" class=\"dataframe\">\n",
              "  <thead>\n",
              "    <tr style=\"text-align: right;\">\n",
              "      <th></th>\n",
              "      <th>country</th>\n",
              "      <th>year</th>\n",
              "      <th>uniqueid</th>\n",
              "      <th>Has a Bank account</th>\n",
              "      <th>Type of Location</th>\n",
              "      <th>Cell Phone Access</th>\n",
              "      <th>household_size</th>\n",
              "      <th>Respondent Age</th>\n",
              "      <th>gender_of_respondent</th>\n",
              "      <th>The relathip with head</th>\n",
              "      <th>marital_status</th>\n",
              "      <th>Level of Educuation</th>\n",
              "      <th>Type of Job</th>\n",
              "    </tr>\n",
              "  </thead>\n",
              "  <tbody>\n",
              "    <tr>\n",
              "      <th>0</th>\n",
              "      <td>Kenya</td>\n",
              "      <td>2018</td>\n",
              "      <td>uniqueid_1</td>\n",
              "      <td>Yes</td>\n",
              "      <td>Rural</td>\n",
              "      <td>Yes</td>\n",
              "      <td>3.0</td>\n",
              "      <td>24.0</td>\n",
              "      <td>Female</td>\n",
              "      <td>Spouse</td>\n",
              "      <td>Married/Living together</td>\n",
              "      <td>Secondary education</td>\n",
              "      <td>Self employed</td>\n",
              "    </tr>\n",
              "    <tr>\n",
              "      <th>1</th>\n",
              "      <td>Kenya</td>\n",
              "      <td>2018</td>\n",
              "      <td>uniqueid_2</td>\n",
              "      <td>No</td>\n",
              "      <td>Rural</td>\n",
              "      <td>No</td>\n",
              "      <td>5.0</td>\n",
              "      <td>70.0</td>\n",
              "      <td>Female</td>\n",
              "      <td>Head of Household</td>\n",
              "      <td>Widowed</td>\n",
              "      <td>No formal education</td>\n",
              "      <td>Government Dependent</td>\n",
              "    </tr>\n",
              "    <tr>\n",
              "      <th>2</th>\n",
              "      <td>Kenya</td>\n",
              "      <td>2018</td>\n",
              "      <td>uniqueid_3</td>\n",
              "      <td>Yes</td>\n",
              "      <td>Urban</td>\n",
              "      <td>Yes</td>\n",
              "      <td>5.0</td>\n",
              "      <td>26.0</td>\n",
              "      <td>Male</td>\n",
              "      <td>Other relative</td>\n",
              "      <td>Single/Never Married</td>\n",
              "      <td>Vocational/Specialised training</td>\n",
              "      <td>Self employed</td>\n",
              "    </tr>\n",
              "    <tr>\n",
              "      <th>3</th>\n",
              "      <td>Kenya</td>\n",
              "      <td>2018</td>\n",
              "      <td>uniqueid_4</td>\n",
              "      <td>No</td>\n",
              "      <td>Rural</td>\n",
              "      <td>Yes</td>\n",
              "      <td>5.0</td>\n",
              "      <td>34.0</td>\n",
              "      <td>Female</td>\n",
              "      <td>Head of Household</td>\n",
              "      <td>Married/Living together</td>\n",
              "      <td>Primary education</td>\n",
              "      <td>Formally employed Private</td>\n",
              "    </tr>\n",
              "    <tr>\n",
              "      <th>4</th>\n",
              "      <td>Kenya</td>\n",
              "      <td>2018</td>\n",
              "      <td>uniqueid_5</td>\n",
              "      <td>No</td>\n",
              "      <td>Urban</td>\n",
              "      <td>No</td>\n",
              "      <td>8.0</td>\n",
              "      <td>26.0</td>\n",
              "      <td>Male</td>\n",
              "      <td>Child</td>\n",
              "      <td>Single/Never Married</td>\n",
              "      <td>Primary education</td>\n",
              "      <td>Informally employed</td>\n",
              "    </tr>\n",
              "  </tbody>\n",
              "</table>\n",
              "</div>"
            ],
            "text/plain": [
              "  country  year  ...              Level of Educuation                Type of Job\n",
              "0   Kenya  2018  ...              Secondary education              Self employed\n",
              "1   Kenya  2018  ...              No formal education       Government Dependent\n",
              "2   Kenya  2018  ...  Vocational/Specialised training              Self employed\n",
              "3   Kenya  2018  ...                Primary education  Formally employed Private\n",
              "4   Kenya  2018  ...                Primary education        Informally employed\n",
              "\n",
              "[5 rows x 13 columns]"
            ]
          },
          "metadata": {
            "tags": []
          },
          "execution_count": 262
        }
      ]
    },
    {
      "cell_type": "code",
      "metadata": {
        "colab": {
          "base_uri": "https://localhost:8080/",
          "height": 350
        },
        "id": "y7BR8EU_TwX0",
        "outputId": "2452a8d5-7b0b-4540-905c-3cd1bead59ab"
      },
      "source": [
        "# Getting a glimpse of the last 5 rows of the dataset\r\n",
        "\r\n",
        "financial.tail()\r\n",
        "\r\n",
        "# The data seems to have been read in correctly. There are no glaring errors at this point."
      ],
      "execution_count": 263,
      "outputs": [
        {
          "output_type": "execute_result",
          "data": {
            "text/html": [
              "<div>\n",
              "<style scoped>\n",
              "    .dataframe tbody tr th:only-of-type {\n",
              "        vertical-align: middle;\n",
              "    }\n",
              "\n",
              "    .dataframe tbody tr th {\n",
              "        vertical-align: top;\n",
              "    }\n",
              "\n",
              "    .dataframe thead th {\n",
              "        text-align: right;\n",
              "    }\n",
              "</style>\n",
              "<table border=\"1\" class=\"dataframe\">\n",
              "  <thead>\n",
              "    <tr style=\"text-align: right;\">\n",
              "      <th></th>\n",
              "      <th>country</th>\n",
              "      <th>year</th>\n",
              "      <th>uniqueid</th>\n",
              "      <th>Has a Bank account</th>\n",
              "      <th>Type of Location</th>\n",
              "      <th>Cell Phone Access</th>\n",
              "      <th>household_size</th>\n",
              "      <th>Respondent Age</th>\n",
              "      <th>gender_of_respondent</th>\n",
              "      <th>The relathip with head</th>\n",
              "      <th>marital_status</th>\n",
              "      <th>Level of Educuation</th>\n",
              "      <th>Type of Job</th>\n",
              "    </tr>\n",
              "  </thead>\n",
              "  <tbody>\n",
              "    <tr>\n",
              "      <th>23519</th>\n",
              "      <td>Uganda</td>\n",
              "      <td>2018</td>\n",
              "      <td>uniqueid_2113</td>\n",
              "      <td>No</td>\n",
              "      <td>Rural</td>\n",
              "      <td>Yes</td>\n",
              "      <td>4.0</td>\n",
              "      <td>48.0</td>\n",
              "      <td>Female</td>\n",
              "      <td>Head of Household</td>\n",
              "      <td>Divorced/Seperated</td>\n",
              "      <td>No formal education</td>\n",
              "      <td>Other Income</td>\n",
              "    </tr>\n",
              "    <tr>\n",
              "      <th>23520</th>\n",
              "      <td>Uganda</td>\n",
              "      <td>2018</td>\n",
              "      <td>uniqueid_2114</td>\n",
              "      <td>No</td>\n",
              "      <td>Rural</td>\n",
              "      <td>Yes</td>\n",
              "      <td>2.0</td>\n",
              "      <td>27.0</td>\n",
              "      <td>Female</td>\n",
              "      <td>Head of Household</td>\n",
              "      <td>Single/Never Married</td>\n",
              "      <td>Secondary education</td>\n",
              "      <td>Other Income</td>\n",
              "    </tr>\n",
              "    <tr>\n",
              "      <th>23521</th>\n",
              "      <td>Uganda</td>\n",
              "      <td>2018</td>\n",
              "      <td>uniqueid_2115</td>\n",
              "      <td>No</td>\n",
              "      <td>Rural</td>\n",
              "      <td>Yes</td>\n",
              "      <td>5.0</td>\n",
              "      <td>27.0</td>\n",
              "      <td>Female</td>\n",
              "      <td>Parent</td>\n",
              "      <td>Widowed</td>\n",
              "      <td>Primary education</td>\n",
              "      <td>Other Income</td>\n",
              "    </tr>\n",
              "    <tr>\n",
              "      <th>23522</th>\n",
              "      <td>Uganda</td>\n",
              "      <td>2018</td>\n",
              "      <td>uniqueid_2116</td>\n",
              "      <td>No</td>\n",
              "      <td>Urban</td>\n",
              "      <td>Yes</td>\n",
              "      <td>7.0</td>\n",
              "      <td>30.0</td>\n",
              "      <td>Female</td>\n",
              "      <td>Parent</td>\n",
              "      <td>Divorced/Seperated</td>\n",
              "      <td>Secondary education</td>\n",
              "      <td>Self employed</td>\n",
              "    </tr>\n",
              "    <tr>\n",
              "      <th>23523</th>\n",
              "      <td>Uganda</td>\n",
              "      <td>2018</td>\n",
              "      <td>uniqueid_2117</td>\n",
              "      <td>No</td>\n",
              "      <td>Rural</td>\n",
              "      <td>Yes</td>\n",
              "      <td>10.0</td>\n",
              "      <td>20.0</td>\n",
              "      <td>Male</td>\n",
              "      <td>Child</td>\n",
              "      <td>Single/Never Married</td>\n",
              "      <td>Secondary education</td>\n",
              "      <td>No Income</td>\n",
              "    </tr>\n",
              "  </tbody>\n",
              "</table>\n",
              "</div>"
            ],
            "text/plain": [
              "      country  year  ...  Level of Educuation    Type of Job\n",
              "23519  Uganda  2018  ...  No formal education   Other Income\n",
              "23520  Uganda  2018  ...  Secondary education   Other Income\n",
              "23521  Uganda  2018  ...    Primary education   Other Income\n",
              "23522  Uganda  2018  ...  Secondary education  Self employed\n",
              "23523  Uganda  2018  ...  Secondary education      No Income\n",
              "\n",
              "[5 rows x 13 columns]"
            ]
          },
          "metadata": {
            "tags": []
          },
          "execution_count": 263
        }
      ]
    },
    {
      "cell_type": "code",
      "metadata": {
        "colab": {
          "base_uri": "https://localhost:8080/"
        },
        "id": "-Fm68eRmUS9q",
        "outputId": "7c2ed4be-af9a-4824-c09e-b73dbaf036b0"
      },
      "source": [
        "# Checking if each column has an appropriate data type\r\n",
        "\r\n",
        "financial.info()\r\n",
        "\r\n",
        "# All of the columns have the appropriate data type. 2 of the \r\n",
        "# attributes are floats(contain decimals), 1 is an integer and \r\n",
        "# 10 of them are strings(objects)"
      ],
      "execution_count": 264,
      "outputs": [
        {
          "output_type": "stream",
          "text": [
            "<class 'pandas.core.frame.DataFrame'>\n",
            "RangeIndex: 23524 entries, 0 to 23523\n",
            "Data columns (total 13 columns):\n",
            " #   Column                  Non-Null Count  Dtype  \n",
            "---  ------                  --------------  -----  \n",
            " 0   country                 23510 non-null  object \n",
            " 1   year                    23524 non-null  int64  \n",
            " 2   uniqueid                23524 non-null  object \n",
            " 3   Has a Bank account      23488 non-null  object \n",
            " 4   Type of Location        23509 non-null  object \n",
            " 5   Cell Phone Access       23513 non-null  object \n",
            " 6   household_size          23496 non-null  float64\n",
            " 7   Respondent Age          23490 non-null  float64\n",
            " 8   gender_of_respondent    23490 non-null  object \n",
            " 9   The relathip with head  23520 non-null  object \n",
            " 10  marital_status          23492 non-null  object \n",
            " 11  Level of Educuation     23495 non-null  object \n",
            " 12  Type of Job             23494 non-null  object \n",
            "dtypes: float64(2), int64(1), object(10)\n",
            "memory usage: 2.3+ MB\n"
          ],
          "name": "stdout"
        }
      ]
    },
    {
      "cell_type": "markdown",
      "metadata": {
        "id": "iA76-ORZVtya"
      },
      "source": [
        "## 5. External data source validation."
      ]
    },
    {
      "cell_type": "markdown",
      "metadata": {
        "id": "KMl0G_zrdlXQ"
      },
      "source": [
        "> My data has been validated against numerous datasets obtained from the World Bank Global Findex website. The links to the datasets are as listed below:\r\n",
        "\r\n",
        "> Account ownership: https://globalfindex.worldbank.org/archdownload/chapter/1\r\n",
        "\r\n",
        "> The unbanked: https://globalfindex.worldbank.org/archdownload/chapter/2\r\n",
        "\r\n",
        "> Access to mobile phones and the internet around the world: https://globalfindex.worldbank.org/archdownload/chapter/11"
      ]
    },
    {
      "cell_type": "markdown",
      "metadata": {
        "id": "ctdQBhDwV7WQ"
      },
      "source": [
        "## 6. Tidying the dataset"
      ]
    },
    {
      "cell_type": "code",
      "metadata": {
        "colab": {
          "base_uri": "https://localhost:8080/",
          "height": 299
        },
        "id": "5ZvaIZZqWBrp",
        "outputId": "92d8156a-6828-4b12-c35f-50b2be303500"
      },
      "source": [
        "# Checking for outliers (Anomalies in the numerical variables)\r\n",
        "\r\n",
        "cols = ['household_size', 'Respondent Age']\r\n",
        "\r\n",
        "fig, ax = plt.subplots(1,2)\r\n",
        "\r\n",
        "for i, col_val in enumerate(cols):\r\n",
        "  sns.boxplot(y = financial[col_val], ax=ax[i])\r\n",
        "  ax[i].set_title('Boxplot - {}'.format(col_val))\r\n",
        "  ax[i].set_xlabel(col_val)\r\n",
        "  ax[i].set_ylabel('Count')\r\n",
        "\r\n",
        "# adjusting space between subplots\r\n",
        "plt.subplots_adjust(left=0.1, \r\n",
        "                    bottom=0.1,  \r\n",
        "                    right=0.9,  \r\n",
        "                    top=0.9,  \r\n",
        "                    wspace=0.7,  \r\n",
        "                    hspace=0.4)\r\n",
        "\r\n",
        "# From these boxplots, it is clear that household_size and respondent age columns\r\n",
        "# contain outliers. The respondent age column has a considerable number of outliers while \r\n",
        "# the household_size column does not have as many (11 outlier values.)\r\n"
      ],
      "execution_count": 265,
      "outputs": [
        {
          "output_type": "display_data",
          "data": {
            "image/png": "[encoded data removed]",
            "text/plain": [
              "<Figure size 432x288 with 2 Axes>"
            ]
          },
          "metadata": {
            "tags": [],
            "needs_background": "light"
          }
        }
      ]
    },
    {
      "cell_type": "code",
      "metadata": {
        "colab": {
          "base_uri": "https://localhost:8080/"
        },
        "id": "AVybGHUrahYP",
        "outputId": "19fb5a3d-52ca-4184-8252-8463e0e4dcd5"
      },
      "source": [
        "# removing the outliers\r\n",
        "\r\n",
        "# Calculating our first, third quantiles and then later our IQR\r\n",
        "# ---\r\n",
        "Q1 = financial.quantile(0.25)\r\n",
        "Q3 = financial.quantile(0.75)\r\n",
        "IQR = Q3 - Q1\r\n",
        "\r\n",
        "# Removing outliers based on the IQR range and stores the result in the data frame 'financial_out'\r\n",
        "# ---\r\n",
        "# \r\n",
        "financial_out = financial[~((financial < (Q1 - 1.5 * IQR)) | (financial > (Q3 + 1.5 * IQR))).any(axis=1)]\r\n",
        "\r\n",
        "# Printing the shape of our new dataset\r\n",
        "# ---\r\n",
        "# \r\n",
        "print(financial_out.shape)\r\n",
        "\r\n",
        "# Printing the shape of our old dataset\r\n",
        "# ---\r\n",
        "#\r\n",
        "print(financial.shape)\r\n",
        "\r\n",
        "# Number of rows removed\r\n",
        "\r\n",
        "rows_removed = financial.shape[0] - financial_out.shape[0]\r\n",
        "rows_removed\r\n",
        "\r\n",
        "# Percentage of rows removed of the percentage\r\n",
        "row_percent = (rows_removed/financial.shape[0]) * 100\r\n",
        "row_percent\r\n",
        "\r\n",
        "# Removing the outliers in our dataframe reduced the number of rows by 621\r\n",
        "# which is 2.6% of the initial dataset size. Outliers badly affect mean and \r\n",
        "# standard deviation of the dataset. They may statistically give erroneous results hence\r\n",
        "# the decision to remove them.\r\n"
      ],
      "execution_count": 266,
      "outputs": [
        {
          "output_type": "stream",
          "text": [
            "(22903, 13)\n",
            "(23524, 13)\n"
          ],
          "name": "stdout"
        },
        {
          "output_type": "execute_result",
          "data": {
            "text/plain": [
              "2.639857167148444"
            ]
          },
          "metadata": {
            "tags": []
          },
          "execution_count": 266
        }
      ]
    },
    {
      "cell_type": "code",
      "metadata": {
        "colab": {
          "base_uri": "https://localhost:8080/",
          "height": 299
        },
        "id": "eOLzXPQ2gKlB",
        "outputId": "2ad8695b-49b6-4d50-a46e-4b554b0469df"
      },
      "source": [
        "# Boxplots after outlier removal\r\n",
        "\r\n",
        "cols = ['household_size', 'Respondent Age']\r\n",
        "\r\n",
        "fig, ax = plt.subplots(1,2)\r\n",
        "\r\n",
        "for i, col_val in enumerate(cols):\r\n",
        "  sns.boxplot(y = financial_out[col_val], ax=ax[i])\r\n",
        "  ax[i].set_title('Boxplot - {}'.format(col_val))\r\n",
        "  ax[i].set_xlabel(col_val)\r\n",
        "  ax[i].set_ylabel('Count')\r\n",
        "\r\n",
        "# adjusting space between subplots\r\n",
        "plt.subplots_adjust(left=0.1, \r\n",
        "                    bottom=0.1,  \r\n",
        "                    right=0.9,  \r\n",
        "                    top=0.9,  \r\n",
        "                    wspace=0.7,  \r\n",
        "                    hspace=0.4)\r\n",
        "\r\n",
        "# After removal of outliers the respondent age column still had outliers,\r\n",
        "# but not as many as before as shown as in the Respondent Age boxplot below. "
      ],
      "execution_count": 267,
      "outputs": [
        {
          "output_type": "display_data",
          "data": {
            "image/png": "[encoded data removed]",
            "text/plain": [
              "<Figure size 432x288 with 2 Axes>"
            ]
          },
          "metadata": {
            "tags": [],
            "needs_background": "light"
          }
        }
      ]
    },
    {
      "cell_type": "code",
      "metadata": {
        "id": "ngLcCXExfqih",
        "colab": {
          "base_uri": "https://localhost:8080/"
        },
        "outputId": "118a9817-5982-4d91-d01a-9b27286ccfaf"
      },
      "source": [
        "# Checking for anomalies in the categorical data\r\n",
        "\r\n",
        "cols = ['country', 'year','Has a Bank account', 'Type of Location', 'Cell Phone Access','gender_of_respondent', \r\n",
        "        'The relathip with head', 'marital_status','Level of Educuation', 'Type of Job']\r\n",
        "\r\n",
        "for i in cols:\r\n",
        "  print(i,':', financial_out[i].unique())\r\n",
        "\r\n",
        "# The level of Education column has an entry that has not been specified in the data\r\n",
        "# description. This is the entry '6'.\r\n",
        "# The other columns all contain the correct entries as per the data description"
      ],
      "execution_count": 268,
      "outputs": [
        {
          "output_type": "stream",
          "text": [
            "country : ['Kenya' 'Rwanda' 'Tanzania' nan 'Uganda']\n",
            "year : [2018 2016 2017]\n",
            "Has a Bank account : ['Yes' 'No' nan]\n",
            "Type of Location : ['Rural' 'Urban' nan]\n",
            "Cell Phone Access : ['Yes' 'No' nan]\n",
            "gender_of_respondent : ['Female' 'Male' nan]\n",
            "The relathip with head : ['Spouse' 'Head of Household' 'Other relative' 'Child' 'Parent'\n",
            " 'Other non-relatives' nan]\n",
            "marital_status : ['Married/Living together' 'Widowed' 'Single/Never Married'\n",
            " 'Divorced/Seperated' 'Dont know' nan]\n",
            "Level of Educuation : ['Secondary education' 'No formal education'\n",
            " 'Vocational/Specialised training' 'Primary education'\n",
            " 'Tertiary education' 'Other/Dont know/RTA' '6' nan]\n",
            "Type of Job : ['Self employed' 'Government Dependent' 'Formally employed Private'\n",
            " 'Informally employed' 'Formally employed Government'\n",
            " 'Farming and Fishing' 'Remittance Dependent' 'Other Income'\n",
            " 'Dont Know/Refuse to answer' nan 'No Income']\n"
          ],
          "name": "stdout"
        }
      ]
    },
    {
      "cell_type": "code",
      "metadata": {
        "colab": {
          "base_uri": "https://localhost:8080/"
        },
        "id": "lIPtqV25xcZJ",
        "outputId": "0285f855-3c12-4bfc-9ff3-e0b67bb9e8f0"
      },
      "source": [
        "# Cleaning up the Level of Education column\r\n",
        "\r\n",
        "financial_out['Level of Educuation'] = financial_out['Level of Educuation'].str.replace('6','Other/Dont know/RTA' )\r\n",
        "\r\n",
        "financial_out['Level of Educuation'].unique()\r\n",
        "\r\n",
        "# The unknown '6' category entry under Level of Education column has been \r\n",
        "# put under the category 'Other/Dont know/RTA' since we do not know what '6' \r\n",
        "# category represents."
      ],
      "execution_count": 269,
      "outputs": [
        {
          "output_type": "stream",
          "text": [
            "/usr/local/lib/python3.7/dist-packages/ipykernel_launcher.py:3: SettingWithCopyWarning: \n",
            "A value is trying to be set on a copy of a slice from a DataFrame.\n",
            "Try using .loc[row_indexer,col_indexer] = value instead\n",
            "\n",
            "See the caveats in the documentation: https://pandas.pydata.org/pandas-docs/stable/user_guide/indexing.html#returning-a-view-versus-a-copy\n",
            "  This is separate from the ipykernel package so we can avoid doing imports until\n"
          ],
          "name": "stderr"
        },
        {
          "output_type": "execute_result",
          "data": {
            "text/plain": [
              "array(['Secondary education', 'No formal education',\n",
              "       'Vocational/Specialised training', 'Primary education',\n",
              "       'Tertiary education', 'Other/Dont know/RTA', nan], dtype=object)"
            ]
          },
          "metadata": {
            "tags": []
          },
          "execution_count": 269
        }
      ]
    },
    {
      "cell_type": "code",
      "metadata": {
        "colab": {
          "base_uri": "https://localhost:8080/"
        },
        "id": "8PJLPuRQyp1W",
        "outputId": "6a5f0ada-cc7f-41c0-94a6-44cadf72bd84"
      },
      "source": [
        "# Check for missing values\r\n",
        "\r\n",
        "financial_out.isna().sum()\r\n",
        "\r\n",
        "# As shown below, all columns have missing values except year\r\n",
        "# and uniqueid. 'Has a bank account' column has the highest number of\r\n",
        "# missing values(36).'The relathip with head' has the lowest number of missing\r\n",
        "# values(4). "
      ],
      "execution_count": 270,
      "outputs": [
        {
          "output_type": "execute_result",
          "data": {
            "text/plain": [
              "country                   14\n",
              "year                       0\n",
              "uniqueid                   0\n",
              "Has a Bank account        36\n",
              "Type of Location          15\n",
              "Cell Phone Access         11\n",
              "household_size            27\n",
              "Respondent Age            33\n",
              "gender_of_respondent      33\n",
              "The relathip with head     4\n",
              "marital_status            31\n",
              "Level of Educuation       29\n",
              "Type of Job               30\n",
              "dtype: int64"
            ]
          },
          "metadata": {
            "tags": []
          },
          "execution_count": 270
        }
      ]
    },
    {
      "cell_type": "code",
      "metadata": {
        "colab": {
          "base_uri": "https://localhost:8080/"
        },
        "id": "ThC8uDSD0IwL",
        "outputId": "a475dc16-87fc-4976-ce24-cd2bccd5ec83"
      },
      "source": [
        "# Dealing with missing values\r\n",
        "\r\n",
        "financial_out = financial_out[financial_out['Has a Bank account'].notna()]\r\n",
        "\r\n",
        "financial_out = financial_out[financial_out['country'].notna()]\r\n",
        "financial_out.isna().sum()\r\n",
        "\r\n",
        "# Selecting only records in the dataset where the 'Has a Bank account' and 'country' \r\n",
        "# column is not null. It is not possible to guess whether a person has a bank account\r\n",
        "# or not or which country they live in and therefore might as well remove those records \r\n",
        "# and deal with the other null values\r\n",
        "# afterwards.\r\n"
      ],
      "execution_count": 271,
      "outputs": [
        {
          "output_type": "execute_result",
          "data": {
            "text/plain": [
              "country                    0\n",
              "year                       0\n",
              "uniqueid                   0\n",
              "Has a Bank account         0\n",
              "Type of Location           7\n",
              "Cell Phone Access          3\n",
              "household_size            27\n",
              "Respondent Age            30\n",
              "gender_of_respondent      33\n",
              "The relathip with head     4\n",
              "marital_status            31\n",
              "Level of Educuation       29\n",
              "Type of Job               30\n",
              "dtype: int64"
            ]
          },
          "metadata": {
            "tags": []
          },
          "execution_count": 271
        }
      ]
    },
    {
      "cell_type": "code",
      "metadata": {
        "colab": {
          "base_uri": "https://localhost:8080/"
        },
        "id": "ED6SIh4P20Bx",
        "outputId": "61b43bc8-5b42-4f9b-eaab-496a7c62a818"
      },
      "source": [
        "# Dealing with missing values\r\n",
        "\r\n",
        "financial_out['Respondent Age'].fillna(financial_out['Respondent Age'].mean(), inplace=True)\r\n",
        "financial_out['household_size'].fillna(financial_out['household_size'].mean(), inplace=True)\r\n",
        "\r\n",
        "financial_out.isna().sum()\r\n",
        "\r\n",
        "# Replaced the null values in the Respondent Age and household_size columns with their mean."
      ],
      "execution_count": 272,
      "outputs": [
        {
          "output_type": "execute_result",
          "data": {
            "text/plain": [
              "country                    0\n",
              "year                       0\n",
              "uniqueid                   0\n",
              "Has a Bank account         0\n",
              "Type of Location           7\n",
              "Cell Phone Access          3\n",
              "household_size             0\n",
              "Respondent Age             0\n",
              "gender_of_respondent      33\n",
              "The relathip with head     4\n",
              "marital_status            31\n",
              "Level of Educuation       29\n",
              "Type of Job               30\n",
              "dtype: int64"
            ]
          },
          "metadata": {
            "tags": []
          },
          "execution_count": 272
        }
      ]
    },
    {
      "cell_type": "code",
      "metadata": {
        "colab": {
          "base_uri": "https://localhost:8080/"
        },
        "id": "OWywuNwR546s",
        "outputId": "47079ab6-6c0c-4d0f-e300-84eac7970eb6"
      },
      "source": [
        "# Dropping all other rows with null values\r\n",
        "\r\n",
        "financial_out.dropna(inplace=True)\r\n",
        "\r\n",
        "financial_out.info()\r\n",
        "\r\n",
        "# After dealing with the missing values, the number of observations reduced\r\n",
        "# from 22,903 to 22,764 which is a loss of 139 records"
      ],
      "execution_count": 273,
      "outputs": [
        {
          "output_type": "stream",
          "text": [
            "<class 'pandas.core.frame.DataFrame'>\n",
            "Int64Index: 22764 entries, 0 to 23522\n",
            "Data columns (total 13 columns):\n",
            " #   Column                  Non-Null Count  Dtype  \n",
            "---  ------                  --------------  -----  \n",
            " 0   country                 22764 non-null  object \n",
            " 1   year                    22764 non-null  int64  \n",
            " 2   uniqueid                22764 non-null  object \n",
            " 3   Has a Bank account      22764 non-null  object \n",
            " 4   Type of Location        22764 non-null  object \n",
            " 5   Cell Phone Access       22764 non-null  object \n",
            " 6   household_size          22764 non-null  float64\n",
            " 7   Respondent Age          22764 non-null  float64\n",
            " 8   gender_of_respondent    22764 non-null  object \n",
            " 9   The relathip with head  22764 non-null  object \n",
            " 10  marital_status          22764 non-null  object \n",
            " 11  Level of Educuation     22764 non-null  object \n",
            " 12  Type of Job             22764 non-null  object \n",
            "dtypes: float64(2), int64(1), object(10)\n",
            "memory usage: 2.4+ MB\n"
          ],
          "name": "stdout"
        }
      ]
    },
    {
      "cell_type": "code",
      "metadata": {
        "colab": {
          "base_uri": "https://localhost:8080/",
          "height": 316
        },
        "id": "F-Rpl1Td7-qM",
        "outputId": "4fbc181a-ae57-4732-9d27-28f8541fdb87"
      },
      "source": [
        "# Making the columns uniform\r\n",
        "\r\n",
        "financial_out.columns = financial_out.columns.str.lower().str.replace(' ', '_').str.strip()\r\n",
        "financial_out.head()\r\n",
        "\r\n",
        "# All columns have been changed to lowercase and the spaces replaced with an underscore'_'.\r\n",
        "# The columns have also been rid of any whitespaces."
      ],
      "execution_count": 274,
      "outputs": [
        {
          "output_type": "execute_result",
          "data": {
            "text/html": [
              "<div>\n",
              "<style scoped>\n",
              "    .dataframe tbody tr th:only-of-type {\n",
              "        vertical-align: middle;\n",
              "    }\n",
              "\n",
              "    .dataframe tbody tr th {\n",
              "        vertical-align: top;\n",
              "    }\n",
              "\n",
              "    .dataframe thead th {\n",
              "        text-align: right;\n",
              "    }\n",
              "</style>\n",
              "<table border=\"1\" class=\"dataframe\">\n",
              "  <thead>\n",
              "    <tr style=\"text-align: right;\">\n",
              "      <th></th>\n",
              "      <th>country</th>\n",
              "      <th>year</th>\n",
              "      <th>uniqueid</th>\n",
              "      <th>has_a_bank_account</th>\n",
              "      <th>type_of_location</th>\n",
              "      <th>cell_phone_access</th>\n",
              "      <th>household_size</th>\n",
              "      <th>respondent_age</th>\n",
              "      <th>gender_of_respondent</th>\n",
              "      <th>the_relathip_with_head</th>\n",
              "      <th>marital_status</th>\n",
              "      <th>level_of_educuation</th>\n",
              "      <th>type_of_job</th>\n",
              "    </tr>\n",
              "  </thead>\n",
              "  <tbody>\n",
              "    <tr>\n",
              "      <th>0</th>\n",
              "      <td>Kenya</td>\n",
              "      <td>2018</td>\n",
              "      <td>uniqueid_1</td>\n",
              "      <td>Yes</td>\n",
              "      <td>Rural</td>\n",
              "      <td>Yes</td>\n",
              "      <td>3.0</td>\n",
              "      <td>24.0</td>\n",
              "      <td>Female</td>\n",
              "      <td>Spouse</td>\n",
              "      <td>Married/Living together</td>\n",
              "      <td>Secondary education</td>\n",
              "      <td>Self employed</td>\n",
              "    </tr>\n",
              "    <tr>\n",
              "      <th>1</th>\n",
              "      <td>Kenya</td>\n",
              "      <td>2018</td>\n",
              "      <td>uniqueid_2</td>\n",
              "      <td>No</td>\n",
              "      <td>Rural</td>\n",
              "      <td>No</td>\n",
              "      <td>5.0</td>\n",
              "      <td>70.0</td>\n",
              "      <td>Female</td>\n",
              "      <td>Head of Household</td>\n",
              "      <td>Widowed</td>\n",
              "      <td>No formal education</td>\n",
              "      <td>Government Dependent</td>\n",
              "    </tr>\n",
              "    <tr>\n",
              "      <th>2</th>\n",
              "      <td>Kenya</td>\n",
              "      <td>2018</td>\n",
              "      <td>uniqueid_3</td>\n",
              "      <td>Yes</td>\n",
              "      <td>Urban</td>\n",
              "      <td>Yes</td>\n",
              "      <td>5.0</td>\n",
              "      <td>26.0</td>\n",
              "      <td>Male</td>\n",
              "      <td>Other relative</td>\n",
              "      <td>Single/Never Married</td>\n",
              "      <td>Vocational/Specialised training</td>\n",
              "      <td>Self employed</td>\n",
              "    </tr>\n",
              "    <tr>\n",
              "      <th>3</th>\n",
              "      <td>Kenya</td>\n",
              "      <td>2018</td>\n",
              "      <td>uniqueid_4</td>\n",
              "      <td>No</td>\n",
              "      <td>Rural</td>\n",
              "      <td>Yes</td>\n",
              "      <td>5.0</td>\n",
              "      <td>34.0</td>\n",
              "      <td>Female</td>\n",
              "      <td>Head of Household</td>\n",
              "      <td>Married/Living together</td>\n",
              "      <td>Primary education</td>\n",
              "      <td>Formally employed Private</td>\n",
              "    </tr>\n",
              "    <tr>\n",
              "      <th>4</th>\n",
              "      <td>Kenya</td>\n",
              "      <td>2018</td>\n",
              "      <td>uniqueid_5</td>\n",
              "      <td>No</td>\n",
              "      <td>Urban</td>\n",
              "      <td>No</td>\n",
              "      <td>8.0</td>\n",
              "      <td>26.0</td>\n",
              "      <td>Male</td>\n",
              "      <td>Child</td>\n",
              "      <td>Single/Never Married</td>\n",
              "      <td>Primary education</td>\n",
              "      <td>Informally employed</td>\n",
              "    </tr>\n",
              "  </tbody>\n",
              "</table>\n",
              "</div>"
            ],
            "text/plain": [
              "  country  year  ...              level_of_educuation                type_of_job\n",
              "0   Kenya  2018  ...              Secondary education              Self employed\n",
              "1   Kenya  2018  ...              No formal education       Government Dependent\n",
              "2   Kenya  2018  ...  Vocational/Specialised training              Self employed\n",
              "3   Kenya  2018  ...                Primary education  Formally employed Private\n",
              "4   Kenya  2018  ...                Primary education        Informally employed\n",
              "\n",
              "[5 rows x 13 columns]"
            ]
          },
          "metadata": {
            "tags": []
          },
          "execution_count": 274
        }
      ]
    },
    {
      "cell_type": "code",
      "metadata": {
        "colab": {
          "base_uri": "https://localhost:8080/"
        },
        "id": "gDO2QDN78j-y",
        "outputId": "9f153906-8208-4a3e-ac43-a2b8a40d7ac9"
      },
      "source": [
        "# Checking for any duplicated records\r\n",
        "\r\n",
        "financial_out.duplicated().any()\r\n",
        "\r\n",
        "# The dataframe does not have any duplicated records"
      ],
      "execution_count": 275,
      "outputs": [
        {
          "output_type": "execute_result",
          "data": {
            "text/plain": [
              "False"
            ]
          },
          "metadata": {
            "tags": []
          },
          "execution_count": 275
        }
      ]
    },
    {
      "cell_type": "code",
      "metadata": {
        "colab": {
          "base_uri": "https://localhost:8080/"
        },
        "id": "aXxfMHIR9BO6",
        "outputId": "a28b73b0-8337-46a0-dbbd-dba4a47ec831"
      },
      "source": [
        "# Dropping all irrelevant columns\r\n",
        "\r\n",
        "financial_out.drop('uniqueid', axis=1, inplace= True)\r\n",
        "financial_out.columns\r\n",
        "\r\n",
        "# The uniqueid column was dropped because it is irrelevant\r\n",
        "# to our analysis."
      ],
      "execution_count": 276,
      "outputs": [
        {
          "output_type": "execute_result",
          "data": {
            "text/plain": [
              "Index(['country', 'year', 'has_a_bank_account', 'type_of_location',\n",
              "       'cell_phone_access', 'household_size', 'respondent_age',\n",
              "       'gender_of_respondent', 'the_relathip_with_head', 'marital_status',\n",
              "       'level_of_educuation', 'type_of_job'],\n",
              "      dtype='object')"
            ]
          },
          "metadata": {
            "tags": []
          },
          "execution_count": 276
        }
      ]
    },
    {
      "cell_type": "markdown",
      "metadata": {
        "id": "uwQRmNiNEQZu"
      },
      "source": [
        "## 7. Exploratory analysis"
      ]
    },
    {
      "cell_type": "markdown",
      "metadata": {
        "id": "GYtn3skmEbX5"
      },
      "source": [
        "### a) Univariate analysis"
      ]
    },
    {
      "cell_type": "markdown",
      "metadata": {
        "id": "IxgR6BYkEiMi"
      },
      "source": [
        "> 'Country' column - This column contains categorical data"
      ]
    },
    {
      "cell_type": "code",
      "metadata": {
        "colab": {
          "base_uri": "https://localhost:8080/",
          "height": 329
        },
        "id": "F4K8UHJtFDWN",
        "outputId": "1daed18d-cf3f-475e-bb51-21eb2d769473"
      },
      "source": [
        "# Bar chart on country\r\n",
        "\r\n",
        "financial_out['country'].value_counts().plot.bar()\r\n",
        "plt.title('Bar chart on country')\r\n",
        "plt.ylabel('counts')\r\n",
        "plt.xlabel('country')\r\n",
        "plt.show()\r\n",
        "\r\n",
        "# Most of the entries in the dataset are from Rwanda(approx. 8000 entries), \r\n",
        "# followed by Tanzania(approx. 6500 entries), then Kenya(approx. 6000 entries) and \r\n",
        "# finally Uganda(approx. 2000 entries)"
      ],
      "execution_count": 277,
      "outputs": [
        {
          "output_type": "display_data",
          "data": {
            "image/png": "[encoded data removed]",
            "text/plain": [
              "<Figure size 432x288 with 1 Axes>"
            ]
          },
          "metadata": {
            "tags": [],
            "needs_background": "light"
          }
        }
      ]
    },
    {
      "cell_type": "markdown",
      "metadata": {
        "id": "MPFjiwqJHrhA"
      },
      "source": [
        "> 'has_a_bank_account' column - Contains categorical data"
      ]
    },
    {
      "cell_type": "code",
      "metadata": {
        "colab": {
          "base_uri": "https://localhost:8080/",
          "height": 264
        },
        "id": "nX_Hb5fWIGZC",
        "outputId": "c0501d03-7c07-4a27-dda8-57622ec4786a"
      },
      "source": [
        "# Pie chart for the 'has_a_bank_account' column\r\n",
        "\r\n",
        "bank_account = financial_out.has_a_bank_account.value_counts()\r\n",
        "\r\n",
        "# Highlighting yes\r\n",
        "explode = (0.1, 0)  \r\n",
        "colors = ['lightgreen', 'pink']\r\n",
        "\r\n",
        "# Plotting our pie chart\r\n",
        "bank_account.plot.pie(explode = explode, colors = colors, autopct='%1.1f%%', shadow=True, startangle=140)\r\n",
        "\r\n",
        "plt.axis('equal')\r\n",
        "plt.title('Pie chart of those that have bank accounts')\r\n",
        "plt.show()\r\n",
        "\r\n",
        "# Only 14.2% of individuals recorded that they have a bank account.\r\n",
        "# A worrying 85.8% of individuals did not have a bank account.\r\n"
      ],
      "execution_count": 278,
      "outputs": [
        {
          "output_type": "display_data",
          "data": {
            "image/png": "[encoded data removed]",
            "text/plain": [
              "<Figure size 432x288 with 1 Axes>"
            ]
          },
          "metadata": {
            "tags": []
          }
        }
      ]
    },
    {
      "cell_type": "markdown",
      "metadata": {
        "id": "1HqCDKxaMSzW"
      },
      "source": [
        "> 'type_of_location' column - Contains categorical data"
      ]
    },
    {
      "cell_type": "code",
      "metadata": {
        "colab": {
          "base_uri": "https://localhost:8080/"
        },
        "id": "oYSHUmj_MsG6",
        "outputId": "9e80eeaa-b544-44e8-be36-3a57488545f0"
      },
      "source": [
        "# Frequency table for the type of location column\r\n",
        "\r\n",
        "financial_out.type_of_location.value_counts()\r\n",
        "\r\n",
        "# 13831 respondents come from rural areas and 8933 come from urban areas."
      ],
      "execution_count": 279,
      "outputs": [
        {
          "output_type": "execute_result",
          "data": {
            "text/plain": [
              "Rural    13831\n",
              "Urban     8933\n",
              "Name: type_of_location, dtype: int64"
            ]
          },
          "metadata": {
            "tags": []
          },
          "execution_count": 279
        }
      ]
    },
    {
      "cell_type": "markdown",
      "metadata": {
        "id": "ub1_CReWOlm3"
      },
      "source": [
        "> 'cell_phone_access' column - contains categorical data"
      ]
    },
    {
      "cell_type": "code",
      "metadata": {
        "colab": {
          "base_uri": "https://localhost:8080/",
          "height": 267
        },
        "id": "r7o1PybUO3mh",
        "outputId": "7e6c7686-9687-4377-e8a1-d51987376bce"
      },
      "source": [
        "# Pie chart for the 'cell_phone_access' column\r\n",
        "\r\n",
        "phone_access = financial_out.cell_phone_access.value_counts()\r\n",
        "\r\n",
        "# Highlighting yes\r\n",
        "explode = (0.1, 0)  \r\n",
        "colors = ['lightskyblue', 'lightcoral']\r\n",
        "\r\n",
        "# Plotting our pie chart\r\n",
        "phone_access.plot.pie(explode = explode, colors = colors, autopct='%1.1f%%', shadow=True, startangle=140)\r\n",
        "\r\n",
        "plt.axis('equal')\r\n",
        "plt.title('Pie chart of those that have cell phone access')\r\n",
        "plt.show()\r\n",
        "\r\n",
        "# 25.3% of respondents had no access to a cellphone while\r\n",
        "# 74.7% had access to a cell phone."
      ],
      "execution_count": 280,
      "outputs": [
        {
          "output_type": "display_data",
          "data": {
            "image/png": "[encoded data removed]",
            "text/plain": [
              "<Figure size 432x288 with 1 Axes>"
            ]
          },
          "metadata": {
            "tags": []
          }
        }
      ]
    },
    {
      "cell_type": "markdown",
      "metadata": {
        "id": "vCMR5NQ5QK0Q"
      },
      "source": [
        "> 'household_size' column - contains numerical data"
      ]
    },
    {
      "cell_type": "code",
      "metadata": {
        "colab": {
          "base_uri": "https://localhost:8080/"
        },
        "id": "u6Rr1B_EQFx2",
        "outputId": "19e54aca-1002-41ea-8ff9-3eb5ecd91d22"
      },
      "source": [
        "# General description of the household size column\r\n",
        "\r\n",
        "financial_out['household_size'].describe()\r\n",
        "\r\n",
        "# The minimum household size is 0 and maximum household size is 9\r\n",
        "# The average household size is 3(rounded off downwards) which is given by the mean value.\r\n",
        "# 25% of the respondents have a household size 2 and below, 50% of respondents have a\r\n",
        "# household size 3 and below and 75% of respondents have a household size of 5 and below.\r\n"
      ],
      "execution_count": 281,
      "outputs": [
        {
          "output_type": "execute_result",
          "data": {
            "text/plain": [
              "count    22764.000000\n",
              "mean         3.579762\n",
              "std          2.079757\n",
              "min          0.000000\n",
              "25%          2.000000\n",
              "50%          3.000000\n",
              "75%          5.000000\n",
              "max          9.000000\n",
              "Name: household_size, dtype: float64"
            ]
          },
          "metadata": {
            "tags": []
          },
          "execution_count": 281
        }
      ]
    },
    {
      "cell_type": "code",
      "metadata": {
        "colab": {
          "base_uri": "https://localhost:8080/"
        },
        "id": "2kooEUR9VDBt",
        "outputId": "f2c48b57-e32b-40fa-a03d-8f5f81a95889"
      },
      "source": [
        "# Obtaining the coefficient of variation\r\n",
        "\r\n",
        "c_v = financial_out['household_size'].std()/financial_out['household_size'].mean()\r\n",
        "c_v\r\n",
        "\r\n",
        "# The coefficient of variation is less than 1 which means that the variation in\r\n",
        "# household size among the respondents is low"
      ],
      "execution_count": 282,
      "outputs": [
        {
          "output_type": "execute_result",
          "data": {
            "text/plain": [
              "0.5809763250959851"
            ]
          },
          "metadata": {
            "tags": []
          },
          "execution_count": 282
        }
      ]
    },
    {
      "cell_type": "code",
      "metadata": {
        "colab": {
          "base_uri": "https://localhost:8080/"
        },
        "id": "22SFFtSEVhZF",
        "outputId": "07c04367-7bd1-44a2-e495-e6798f883405"
      },
      "source": [
        "# Obtaining the skewness\r\n",
        "\r\n",
        "financial_out['household_size'].skew()\r\n",
        "\r\n",
        "# The skewness is only slightly positively skewed which indicates \r\n",
        "# that the distribution of the households is nearly normal."
      ],
      "execution_count": 283,
      "outputs": [
        {
          "output_type": "execute_result",
          "data": {
            "text/plain": [
              "0.6067488571017968"
            ]
          },
          "metadata": {
            "tags": []
          },
          "execution_count": 283
        }
      ]
    },
    {
      "cell_type": "code",
      "metadata": {
        "colab": {
          "base_uri": "https://localhost:8080/"
        },
        "id": "HiqnSbEEWH3O",
        "outputId": "2b038868-73f4-410a-99d2-1153c88238f4"
      },
      "source": [
        "# Obtaining kurtosis\r\n",
        "\r\n",
        "financial_out['household_size'].kurt()\r\n",
        "\r\n",
        "# The data in the column has lighter tails than that of a normal distribution\r\n",
        "# This platykurtic nature of the distribution also suggests absence of outliers."
      ],
      "execution_count": 284,
      "outputs": [
        {
          "output_type": "execute_result",
          "data": {
            "text/plain": [
              "-0.502424256767307"
            ]
          },
          "metadata": {
            "tags": []
          },
          "execution_count": 284
        }
      ]
    },
    {
      "cell_type": "code",
      "metadata": {
        "colab": {
          "base_uri": "https://localhost:8080/",
          "height": 384
        },
        "id": "XwPewg7jWtws",
        "outputId": "9c0ae04e-d67f-431e-dade-e118102ee31b"
      },
      "source": [
        "# Plotting a distplot\r\n",
        "\r\n",
        "sns.displot(financial_out['household_size'], kde = False)\r\n",
        "plt.title('Distribution plot on household size')\r\n",
        "plt.xlabel('Household size')\r\n",
        "plt.show()\r\n",
        "\r\n",
        "# From this plot, it is clear that majority of the respondents\r\n",
        "# have a household size of 2. It is also clear that the  household size \r\n",
        "# data is skewed to the right."
      ],
      "execution_count": 285,
      "outputs": [
        {
          "output_type": "display_data",
          "data": {
            "image/png": "[encoded data removed]",
            "text/plain": [
              "<Figure size 360x360 with 1 Axes>"
            ]
          },
          "metadata": {
            "tags": [],
            "needs_background": "light"
          }
        }
      ]
    },
    {
      "cell_type": "markdown",
      "metadata": {
        "id": "ps8Mu6KjYCuE"
      },
      "source": [
        "> 'respondent_age' column - contains numerical data"
      ]
    },
    {
      "cell_type": "code",
      "metadata": {
        "colab": {
          "base_uri": "https://localhost:8080/"
        },
        "id": "OiK49a54X_0j",
        "outputId": "20266aa7-9907-4f0a-ef86-c4d3a12af77a"
      },
      "source": [
        "# General description of the respondent age column\r\n",
        "\r\n",
        "financial_out['respondent_age'].describe()\r\n",
        "\r\n",
        "# The minimum age of the respondent is 16 and maximum respondent age is 83\r\n",
        "# The average age is 38(rounded off downwards) which is given by the mean value.\r\n",
        "# 25% of the respondents are aged 26 and below, 50% of respondents are aged 35 \r\n",
        "# and below and 75% of respondents are aged 48 and below."
      ],
      "execution_count": 286,
      "outputs": [
        {
          "output_type": "execute_result",
          "data": {
            "text/plain": [
              "count    22764.000000\n",
              "mean        38.343554\n",
              "std         15.798691\n",
              "min         16.000000\n",
              "25%         26.000000\n",
              "50%         35.000000\n",
              "75%         48.000000\n",
              "max         83.000000\n",
              "Name: respondent_age, dtype: float64"
            ]
          },
          "metadata": {
            "tags": []
          },
          "execution_count": 286
        }
      ]
    },
    {
      "cell_type": "code",
      "metadata": {
        "colab": {
          "base_uri": "https://localhost:8080/"
        },
        "id": "MbnPXohUZCt7",
        "outputId": "9d166981-47e0-401e-9c2d-e6559512f6a6"
      },
      "source": [
        "# Obtaining the coefficient of variance\r\n",
        "\r\n",
        "c_v = financial_out['respondent_age'].std()/financial_out['respondent_age'].mean()\r\n",
        "c_v\r\n",
        "\r\n",
        "# The coefficient of variance is less than 1 which indicates low\r\n",
        "# variability in the ages of the respondents"
      ],
      "execution_count": 287,
      "outputs": [
        {
          "output_type": "execute_result",
          "data": {
            "text/plain": [
              "0.4120299024041787"
            ]
          },
          "metadata": {
            "tags": []
          },
          "execution_count": 287
        }
      ]
    },
    {
      "cell_type": "code",
      "metadata": {
        "colab": {
          "base_uri": "https://localhost:8080/"
        },
        "id": "D7D8VsyyZhsO",
        "outputId": "3d6437e8-fc3d-40a7-b88a-4fc09f913470"
      },
      "source": [
        "# Obtaining skewness\r\n",
        "\r\n",
        "financial_out['respondent_age'].skew()\r\n",
        "\r\n",
        "# The ages are moderately positively skewed."
      ],
      "execution_count": 288,
      "outputs": [
        {
          "output_type": "execute_result",
          "data": {
            "text/plain": [
              "0.7410828667357151"
            ]
          },
          "metadata": {
            "tags": []
          },
          "execution_count": 288
        }
      ]
    },
    {
      "cell_type": "code",
      "metadata": {
        "colab": {
          "base_uri": "https://localhost:8080/"
        },
        "id": "rxWAdTrIamr7",
        "outputId": "23b92196-3388-4780-8b9a-fa74aeed267c"
      },
      "source": [
        "# Obtaining kurtosis\r\n",
        "financial_out['respondent_age'].kurt()\r\n",
        "\r\n",
        "# The ages data is slightly platykurtic. This\r\n",
        "# suggests absence of outliers"
      ],
      "execution_count": 289,
      "outputs": [
        {
          "output_type": "execute_result",
          "data": {
            "text/plain": [
              "-0.23379462547051455"
            ]
          },
          "metadata": {
            "tags": []
          },
          "execution_count": 289
        }
      ]
    },
    {
      "cell_type": "code",
      "metadata": {
        "colab": {
          "base_uri": "https://localhost:8080/",
          "height": 384
        },
        "id": "x5iSqjsEbEOg",
        "outputId": "0eb40560-0ee0-4f3f-a885-d2bf786908db"
      },
      "source": [
        "# Plotting a distplot\r\n",
        "\r\n",
        "sns.displot(financial_out['respondent_age'], kde = False)\r\n",
        "plt.title('Distribution plot on age')\r\n",
        "plt.xlabel('Respondents age')\r\n",
        "plt.show()\r\n",
        "\r\n",
        "# The displot offers a graphical proof that the\r\n",
        "# data is positively skewed."
      ],
      "execution_count": 290,
      "outputs": [
        {
          "output_type": "display_data",
          "data": {
            "image/png": "[encoded data removed]",
            "text/plain": [
              "<Figure size 360x360 with 1 Axes>"
            ]
          },
          "metadata": {
            "tags": [],
            "needs_background": "light"
          }
        }
      ]
    },
    {
      "cell_type": "code",
      "metadata": {
        "colab": {
          "base_uri": "https://localhost:8080/",
          "height": 296
        },
        "id": "wf2RBY7xud1_",
        "outputId": "25a95d0c-beca-419a-f242-01599aba3e3b"
      },
      "source": [
        "# Plotting a boxplot for age\r\n",
        "\r\n",
        "sns.boxplot(x = financial_out['respondent_age'], showmeans = True)\r\n",
        "plt.title('Boxplot on respondents ages')\r\n",
        "plt.show()\r\n",
        "\r\n",
        "# The ages column contains some outliers as shown in the boxplot below"
      ],
      "execution_count": 291,
      "outputs": [
        {
          "output_type": "display_data",
          "data": {
            "image/png": "[encoded data removed]",
            "text/plain": [
              "<Figure size 432x288 with 1 Axes>"
            ]
          },
          "metadata": {
            "tags": [],
            "needs_background": "light"
          }
        }
      ]
    },
    {
      "cell_type": "markdown",
      "metadata": {
        "id": "n-bykF5hcK1n"
      },
      "source": [
        "> 'gender_of_respondent' column - contains categorical data"
      ]
    },
    {
      "cell_type": "code",
      "metadata": {
        "colab": {
          "base_uri": "https://localhost:8080/"
        },
        "id": "TPwOXUhacEe0",
        "outputId": "93f291c9-8254-47b9-dd36-00ef9aebe4ee"
      },
      "source": [
        "# Frequency table on the gender of respondents\r\n",
        "\r\n",
        "financial_out['gender_of_respondent'].value_counts()\r\n",
        "\r\n",
        "# 13423 of the respondents were female and 9341 were male."
      ],
      "execution_count": 292,
      "outputs": [
        {
          "output_type": "execute_result",
          "data": {
            "text/plain": [
              "Female    13423\n",
              "Male       9341\n",
              "Name: gender_of_respondent, dtype: int64"
            ]
          },
          "metadata": {
            "tags": []
          },
          "execution_count": 292
        }
      ]
    },
    {
      "cell_type": "markdown",
      "metadata": {
        "id": "M85o3yAhcy5u"
      },
      "source": [
        "> 'the_relathip_with_head' column - contains categorical data"
      ]
    },
    {
      "cell_type": "code",
      "metadata": {
        "colab": {
          "base_uri": "https://localhost:8080/",
          "height": 382
        },
        "id": "0Q4o0yDdcyiQ",
        "outputId": "f3a70d2d-805d-4063-e9c3-4fcc43859dbb"
      },
      "source": [
        "# Bar chart of the relationship with the head of the household\r\n",
        "\r\n",
        "financial_out['the_relathip_with_head'].value_counts().plot.bar(color = 'purple')\r\n",
        "plt.title('Bar chart on relationship with the head')\r\n",
        "plt.ylabel('counts')\r\n",
        "plt.xlabel('Relationship with head of household')\r\n",
        "plt.show()\r\n",
        "\r\n",
        "# Majority of the respondents were the heads of the household(approx. 12000)\r\n",
        "# followed by the spouses(approx. 6000)"
      ],
      "execution_count": 293,
      "outputs": [
        {
          "output_type": "display_data",
          "data": {
            "image/png": "[encoded data removed]",
            "text/plain": [
              "<Figure size 432x288 with 1 Axes>"
            ]
          },
          "metadata": {
            "tags": [],
            "needs_background": "light"
          }
        }
      ]
    },
    {
      "cell_type": "markdown",
      "metadata": {
        "id": "CzrbMWDTeP73"
      },
      "source": [
        "> 'marital_status' column - contains numerical data"
      ]
    },
    {
      "cell_type": "code",
      "metadata": {
        "colab": {
          "base_uri": "https://localhost:8080/"
        },
        "id": "Wj2qwq8zeKNC",
        "outputId": "088180e0-3da1-423f-eaf4-0677ffb4170e"
      },
      "source": [
        "# Frequency table on the marital status\r\n",
        "\r\n",
        "financial_out.marital_status.value_counts()\r\n",
        "\r\n",
        "# 10447 respondents are married\r\n",
        "# 7764 respondents are single and have never been married\r\n",
        "# 2511 respondents are widowed\r\n",
        "# 2034 respondents don't know"
      ],
      "execution_count": 294,
      "outputs": [
        {
          "output_type": "execute_result",
          "data": {
            "text/plain": [
              "Married/Living together    10447\n",
              "Single/Never Married        7764\n",
              "Widowed                     2511\n",
              "Divorced/Seperated          2034\n",
              "Dont know                      8\n",
              "Name: marital_status, dtype: int64"
            ]
          },
          "metadata": {
            "tags": []
          },
          "execution_count": 294
        }
      ]
    },
    {
      "cell_type": "markdown",
      "metadata": {
        "id": "saQYNr2shzTd"
      },
      "source": [
        "> 'level_of eduacation' column - contains categorical data"
      ]
    },
    {
      "cell_type": "code",
      "metadata": {
        "colab": {
          "base_uri": "https://localhost:8080/",
          "height": 439
        },
        "id": "VbN7BmjQfPDH",
        "outputId": "44738f8f-ff98-4b93-fc9a-412ddf8fe9d3"
      },
      "source": [
        "# Bar chart on level of education\r\n",
        "\r\n",
        "financial_out['level_of_educuation'].value_counts().plot.bar(color = 'darkgreen')\r\n",
        "plt.title('Bar chart on level of education')\r\n",
        "plt.ylabel('counts')\r\n",
        "plt.xlabel('Level of education')\r\n",
        "plt.show()\r\n",
        "\r\n",
        "# Majority of the respondents have completed there Primary education\r\n",
        "# with approx. 4000 with no formal education and approx. 4000 having attained secondary\r\n",
        "# education. Those with tertiary education are slightly less than 2000 and those with specialized\r\n",
        "# training are approx. 1000"
      ],
      "execution_count": 295,
      "outputs": [
        {
          "output_type": "display_data",
          "data": {
            "image/png": "[encoded data removed]",
            "text/plain": [
              "<Figure size 432x288 with 1 Axes>"
            ]
          },
          "metadata": {
            "tags": [],
            "needs_background": "light"
          }
        }
      ]
    },
    {
      "cell_type": "markdown",
      "metadata": {
        "id": "pqR3lgFQh9Lj"
      },
      "source": [
        "> 'type_of_job' column - contains categorical data"
      ]
    },
    {
      "cell_type": "code",
      "metadata": {
        "colab": {
          "base_uri": "https://localhost:8080/"
        },
        "id": "cwqz50-ViKRS",
        "outputId": "ae15ff58-f03f-4e40-fd99-fa9ef6c45a7b"
      },
      "source": [
        "# Frequency table on type of job of the respondents\r\n",
        "\r\n",
        "financial_out.type_of_job.value_counts()\r\n",
        "\r\n",
        "# Most respondents are self employed followed by those who are informally employed\r\n",
        "# 118 of the respondents refused to answer while 209 are government dependent."
      ],
      "execution_count": 296,
      "outputs": [
        {
          "output_type": "execute_result",
          "data": {
            "text/plain": [
              "Self employed                   6222\n",
              "Informally employed             5502\n",
              "Farming and Fishing             5302\n",
              "Remittance Dependent            2377\n",
              "Formally employed Private       1036\n",
              "Other Income                    1028\n",
              "No Income                        588\n",
              "Formally employed Government     382\n",
              "Government Dependent             209\n",
              "Dont Know/Refuse to answer       118\n",
              "Name: type_of_job, dtype: int64"
            ]
          },
          "metadata": {
            "tags": []
          },
          "execution_count": 296
        }
      ]
    },
    {
      "cell_type": "markdown",
      "metadata": {
        "id": "-E-9hAaFII4G"
      },
      "source": [
        "### Recommendations for effectively performing univariate analysis while working on the current problem."
      ]
    },
    {
      "cell_type": "markdown",
      "metadata": {
        "id": "A0YEFsp7IcUu"
      },
      "source": [
        "> The univariate analysis should be done independently and exhaustively on each variable. The visualizations and techniques used should coincide with the type of data in that specific variable.\r\n",
        "Measures of central tendancy and dispersion must be used for numerical variables such as 'age of respondents' and 'household size' while frequency tables, histograms and bar charts should be used when dealing with categorical columns such as 'level of education'."
      ]
    },
    {
      "cell_type": "markdown",
      "metadata": {
        "id": "H_aTDUGgjR6w"
      },
      "source": [
        "### b) Bivariate analysis"
      ]
    },
    {
      "cell_type": "code",
      "metadata": {
        "colab": {
          "base_uri": "https://localhost:8080/",
          "height": 295
        },
        "id": "agrm2KFQjWFF",
        "outputId": "48ee4557-b52f-477f-c39b-835cb4dd6232"
      },
      "source": [
        "# Scatterplot of age of respondent vs household size\r\n",
        "\r\n",
        "plt.scatter(financial_out['household_size'], financial_out['respondent_age'])\r\n",
        "plt.title('Scatterplot of age and household size')\r\n",
        "plt.ylabel('Age')\r\n",
        "plt.xlabel('Household size')\r\n",
        "plt.show()\r\n",
        "\r\n",
        "# Age and household size do not seem to have any correlation just by looking at the scatterplot."
      ],
      "execution_count": 297,
      "outputs": [
        {
          "output_type": "display_data",
          "data": {
            "image/png": "[encoded data removed]",
            "text/plain": [
              "<Figure size 432x288 with 1 Axes>"
            ]
          },
          "metadata": {
            "tags": [],
            "needs_background": "light"
          }
        }
      ]
    },
    {
      "cell_type": "code",
      "metadata": {
        "colab": {
          "base_uri": "https://localhost:8080/"
        },
        "id": "PtMm84UxxfBt",
        "outputId": "a44ba800-34e5-4d49-e350-e618ae2da083"
      },
      "source": [
        "# Correlation coefficient of age and household size\r\n",
        "\r\n",
        "corr = financial_out['household_size'].corr(financial_out['respondent_age'])\r\n",
        "print(corr)\r\n",
        "\r\n",
        "# Age and household size are weakly negatively correlated."
      ],
      "execution_count": 298,
      "outputs": [
        {
          "output_type": "stream",
          "text": [
            "-0.10611653818401764\n"
          ],
          "name": "stdout"
        }
      ]
    },
    {
      "cell_type": "code",
      "metadata": {
        "colab": {
          "base_uri": "https://localhost:8080/",
          "height": 329
        },
        "id": "WX0_MBJF0sCb",
        "outputId": "ac98a901-e8ba-4e15-ce1d-397bc9e4c43b"
      },
      "source": [
        "# Stacked bar chart of country vs ownership of a bank account \r\n",
        "\r\n",
        "table=pd.crosstab(financial_out['country'],financial_out['has_a_bank_account'])\r\n",
        "table.div(table.sum(1).astype(float), axis=0).plot(kind='bar', stacked=True)\r\n",
        "plt.title('Stacked Bar Chart of country vs ownership of a bank account')\r\n",
        "plt.xlabel('Country')\r\n",
        "plt.ylabel('Proportion of Respondents')\r\n",
        "plt.show()\r\n",
        "\r\n",
        "# Kenya has the highest number of respondents with a bank account\r\n",
        "# followed closely by Uganda, then Tanzania and lastly Rwanda"
      ],
      "execution_count": 299,
      "outputs": [
        {
          "output_type": "display_data",
          "data": {
            "image/png": "[encoded data removed]",
            "text/plain": [
              "<Figure size 432x288 with 1 Axes>"
            ]
          },
          "metadata": {
            "tags": [],
            "needs_background": "light"
          }
        }
      ]
    },
    {
      "cell_type": "code",
      "metadata": {
        "colab": {
          "base_uri": "https://localhost:8080/",
          "height": 316
        },
        "id": "tQ53lek_4aRH",
        "outputId": "81948d04-be46-4628-f924-0850714b401c"
      },
      "source": [
        "# Stacked bar chart of type of location vs ownership of a bank account \r\n",
        "\r\n",
        "table=pd.crosstab(financial_out['type_of_location'],financial_out['has_a_bank_account'])\r\n",
        "table.div(table.sum(1).astype(float), axis=0).plot(kind='bar', stacked=True)\r\n",
        "plt.title('Stacked Bar Chart of location vs ownership of a bank account')\r\n",
        "plt.xlabel('location')\r\n",
        "plt.ylabel('Proportion of Respondents')\r\n",
        "plt.show()\r\n",
        "\r\n",
        "# The proportion of respondents in rural areas that do not have bank accounts (approx. 90%)\r\n",
        "# is higher than the proportion of respondents in urban areas that do not have bank accounts\r\n",
        "# (approx. 80%)"
      ],
      "execution_count": 300,
      "outputs": [
        {
          "output_type": "display_data",
          "data": {
            "image/png": "[encoded data removed]",
            "text/plain": [
              "<Figure size 432x288 with 1 Axes>"
            ]
          },
          "metadata": {
            "tags": [],
            "needs_background": "light"
          }
        }
      ]
    },
    {
      "cell_type": "code",
      "metadata": {
        "colab": {
          "base_uri": "https://localhost:8080/",
          "height": 301
        },
        "id": "HdGL3kNT80O0",
        "outputId": "4a4d3cdf-8c8f-48e2-fdad-79e7602e8765"
      },
      "source": [
        "# Stacked bar chart of cellphone access vs ownership of a bank account \r\n",
        "\r\n",
        "table=pd.crosstab(financial_out['cell_phone_access'],financial_out['has_a_bank_account'])\r\n",
        "table.div(table.sum(1).astype(float), axis=0).plot(kind='bar', stacked=True)\r\n",
        "plt.title('Stacked Bar Chart of cellphone access vs ownership of a bank account')\r\n",
        "plt.xlabel('Cellphone access')\r\n",
        "plt.ylabel('Proportion of Respondents')\r\n",
        "plt.show()\r\n",
        "\r\n",
        "# Almost 100% of respondents that do not have a cellphone\r\n",
        "# do not have a bank account. Around 80% of those who have a \r\n",
        "# cellphone do not have access to bank accounts. \r\n",
        "# With the increased number of financial institutions offering mobile banking\r\n",
        "# it has made it easier for those with phones to access financial services."
      ],
      "execution_count": 301,
      "outputs": [
        {
          "output_type": "display_data",
          "data": {
            "image/png": "[encoded data removed]",
            "text/plain": [
              "<Figure size 432x288 with 1 Axes>"
            ]
          },
          "metadata": {
            "tags": [],
            "needs_background": "light"
          }
        }
      ]
    },
    {
      "cell_type": "code",
      "metadata": {
        "colab": {
          "base_uri": "https://localhost:8080/",
          "height": 321
        },
        "id": "WPE21ZWx_EK6",
        "outputId": "b452e9c9-c169-42bf-f380-0e8ed9d19b23"
      },
      "source": [
        "# Stacked bar chart of gender vs ownership of a bank account \r\n",
        "\r\n",
        "table=pd.crosstab(financial_out['gender_of_respondent'],financial_out['has_a_bank_account'])\r\n",
        "table.div(table.sum(1).astype(float), axis=0).plot(kind='bar', stacked=True)\r\n",
        "plt.title('Stacked Bar Chart of gender vs ownership of a bank account')\r\n",
        "plt.xlabel('Gender')\r\n",
        "plt.ylabel('Proportion of Respondents')\r\n",
        "plt.show()\r\n",
        "\r\n",
        "# 90% of the female respondents do not have a bank account while around 80%\r\n",
        "# of male respondents do not have a bank account. "
      ],
      "execution_count": 302,
      "outputs": [
        {
          "output_type": "display_data",
          "data": {
            "image/png": "[encoded data removed]",
            "text/plain": [
              "<Figure size 432x288 with 1 Axes>"
            ]
          },
          "metadata": {
            "tags": [],
            "needs_background": "light"
          }
        }
      ]
    },
    {
      "cell_type": "code",
      "metadata": {
        "colab": {
          "base_uri": "https://localhost:8080/",
          "height": 382
        },
        "id": "FBq5-Gj5_8x9",
        "outputId": "d1c077d8-81b3-4221-bd34-79ca1682d95a"
      },
      "source": [
        "# Stacked bar chart of type of Relationship with the head of the household vs ownership of a bank account \r\n",
        "\r\n",
        "table=pd.crosstab(financial_out['the_relathip_with_head'],financial_out['has_a_bank_account'])\r\n",
        "table.div(table.sum(1).astype(float), axis=0).plot(kind='bar', stacked=True)\r\n",
        "plt.title('Stacked Bar Chart of relation with head of household vs ownership of a bank account')\r\n",
        "plt.xlabel('Relationship with head of household')\r\n",
        "plt.ylabel('Proportion of Respondents')\r\n",
        "plt.show()\r\n",
        "\r\n",
        "# The proportion of those owning a bank account is highest among the heads of the \r\n",
        "# household as compared to other members. The proportion of those\r\n",
        "# owning a bank account is lowest among those who are a parent to the head of the household. "
      ],
      "execution_count": 303,
      "outputs": [
        {
          "output_type": "display_data",
          "data": {
            "image/png": "[encoded data removed]",
            "text/plain": [
              "<Figure size 432x288 with 1 Axes>"
            ]
          },
          "metadata": {
            "tags": [],
            "needs_background": "light"
          }
        }
      ]
    },
    {
      "cell_type": "code",
      "metadata": {
        "colab": {
          "base_uri": "https://localhost:8080/",
          "height": 403
        },
        "id": "1yd13RunC4pi",
        "outputId": "241008aa-2afa-4b02-e8db-fd1add13791e"
      },
      "source": [
        "# Stacked bar chart of marital status vs ownership of a bank account \r\n",
        "\r\n",
        "table=pd.crosstab(financial_out['marital_status'],financial_out['has_a_bank_account'])\r\n",
        "table.div(table.sum(1).astype(float), axis=0).plot(kind='bar', stacked=True)\r\n",
        "plt.title('Stacked Bar Chart of marital status vs ownership of a bank account')\r\n",
        "plt.xlabel('Marital status')\r\n",
        "plt.ylabel('Proportion of Respondents')\r\n",
        "plt.show()\r\n",
        "\r\n",
        "# Among those who do not know their marital status, approximately 25% of them have a \r\n",
        "# bank account. Among those who are married approximately 19% of them have a bank account.\r\n",
        "# Those who are widowed have the lowest proportion of respondents with a bank account."
      ],
      "execution_count": 304,
      "outputs": [
        {
          "output_type": "display_data",
          "data": {
            "image/png": "[encoded data removed]",
            "text/plain": [
              "<Figure size 432x288 with 1 Axes>"
            ]
          },
          "metadata": {
            "tags": [],
            "needs_background": "light"
          }
        }
      ]
    },
    {
      "cell_type": "code",
      "metadata": {
        "colab": {
          "base_uri": "https://localhost:8080/",
          "height": 439
        },
        "id": "pJ0SHorFEcCY",
        "outputId": "37a76a03-9611-48f2-fca9-0655da223042"
      },
      "source": [
        "# Stacked bar chart of level of education vs ownership of a bank account \r\n",
        "\r\n",
        "table=pd.crosstab(financial_out['level_of_educuation'],financial_out['has_a_bank_account'])\r\n",
        "table.div(table.sum(1).astype(float), axis=0).plot(kind='bar', stacked=True)\r\n",
        "plt.title('Stacked Bar Chart of level of education vs ownership of a bank account')\r\n",
        "plt.xlabel('Level of education')\r\n",
        "plt.ylabel('Proportion of Respondents')\r\n",
        "plt.show()\r\n",
        "\r\n",
        "# Those with no formal education have the highest proportion of respondents\r\n",
        "# without a bank account. Those who have attained tertiary education and specialized\r\n",
        "# training have the second highest and highest proportion of respondents with a bank account respectively"
      ],
      "execution_count": 305,
      "outputs": [
        {
          "output_type": "display_data",
          "data": {
            "image/png": "[encoded data removed]",
            "text/plain": [
              "<Figure size 432x288 with 1 Axes>"
            ]
          },
          "metadata": {
            "tags": [],
            "needs_background": "light"
          }
        }
      ]
    },
    {
      "cell_type": "code",
      "metadata": {
        "colab": {
          "base_uri": "https://localhost:8080/",
          "height": 446
        },
        "id": "8W8hdh8OGbAi",
        "outputId": "55ed7617-16d5-4090-9508-898cda931ff2"
      },
      "source": [
        "# Stacked bar chart of type of job vs ownership of a bank account \r\n",
        "\r\n",
        "table=pd.crosstab(financial_out['type_of_job'],financial_out['has_a_bank_account'])\r\n",
        "table.div(table.sum(1).astype(float), axis=0).plot(kind='bar', stacked=True)\r\n",
        "plt.title('Stacked Bar Chart of type of job vs ownership of a bank account')\r\n",
        "plt.xlabel('Type of job')\r\n",
        "plt.ylabel('Proportion of Respondents')\r\n",
        "plt.show()\r\n",
        "\r\n",
        "# Those formally employed in the government have the highest proportion of respondents\r\n",
        "# with a bank account. As expected, those who do not have income, have the lowest proportion\r\n",
        "# of respondents with a bank account."
      ],
      "execution_count": 306,
      "outputs": [
        {
          "output_type": "display_data",
          "data": {
            "image/png": "[encoded data removed]",
            "text/plain": [
              "<Figure size 432x288 with 1 Axes>"
            ]
          },
          "metadata": {
            "tags": [],
            "needs_background": "light"
          }
        }
      ]
    },
    {
      "cell_type": "code",
      "metadata": {
        "colab": {
          "base_uri": "https://localhost:8080/",
          "height": 186
        },
        "id": "gHIfMxaDHx8_",
        "outputId": "7f71a49c-0018-4a19-cf42-02919e3eae51"
      },
      "source": [
        "# Describing the numerical data based on whether the respondent has a  bank account or not\r\n",
        "\r\n",
        "financial_out.groupby('has_a_bank_account').describe()\r\n",
        "\r\n",
        "# What to note here is:\r\n",
        "# - The average household size for those who do not have a bank account(3.59) is slightly higher than for\r\n",
        "# those that have a bank account(3.46).\r\n",
        "# - The average age of those that have a bank account(39.33) is slightly higher than the average age for those that\r\n",
        "# do not have a bank account(38.18).\r\n",
        "# - The standard deviation for age with those that do not have a bank account is higher than the standard deviation for age \r\n",
        "# for those that have a bank account(16.08 and 13.93 respectively)."
      ],
      "execution_count": 307,
      "outputs": [
        {
          "output_type": "execute_result",
          "data": {
            "text/html": [
              "<div>\n",
              "<style scoped>\n",
              "    .dataframe tbody tr th:only-of-type {\n",
              "        vertical-align: middle;\n",
              "    }\n",
              "\n",
              "    .dataframe tbody tr th {\n",
              "        vertical-align: top;\n",
              "    }\n",
              "\n",
              "    .dataframe thead tr th {\n",
              "        text-align: left;\n",
              "    }\n",
              "\n",
              "    .dataframe thead tr:last-of-type th {\n",
              "        text-align: right;\n",
              "    }\n",
              "</style>\n",
              "<table border=\"1\" class=\"dataframe\">\n",
              "  <thead>\n",
              "    <tr>\n",
              "      <th></th>\n",
              "      <th colspan=\"8\" halign=\"left\">year</th>\n",
              "      <th colspan=\"8\" halign=\"left\">household_size</th>\n",
              "      <th colspan=\"8\" halign=\"left\">respondent_age</th>\n",
              "    </tr>\n",
              "    <tr>\n",
              "      <th></th>\n",
              "      <th>count</th>\n",
              "      <th>mean</th>\n",
              "      <th>std</th>\n",
              "      <th>min</th>\n",
              "      <th>25%</th>\n",
              "      <th>50%</th>\n",
              "      <th>75%</th>\n",
              "      <th>max</th>\n",
              "      <th>count</th>\n",
              "      <th>mean</th>\n",
              "      <th>std</th>\n",
              "      <th>min</th>\n",
              "      <th>25%</th>\n",
              "      <th>50%</th>\n",
              "      <th>75%</th>\n",
              "      <th>max</th>\n",
              "      <th>count</th>\n",
              "      <th>mean</th>\n",
              "      <th>std</th>\n",
              "      <th>min</th>\n",
              "      <th>25%</th>\n",
              "      <th>50%</th>\n",
              "      <th>75%</th>\n",
              "      <th>max</th>\n",
              "    </tr>\n",
              "    <tr>\n",
              "      <th>has_a_bank_account</th>\n",
              "      <th></th>\n",
              "      <th></th>\n",
              "      <th></th>\n",
              "      <th></th>\n",
              "      <th></th>\n",
              "      <th></th>\n",
              "      <th></th>\n",
              "      <th></th>\n",
              "      <th></th>\n",
              "      <th></th>\n",
              "      <th></th>\n",
              "      <th></th>\n",
              "      <th></th>\n",
              "      <th></th>\n",
              "      <th></th>\n",
              "      <th></th>\n",
              "      <th></th>\n",
              "      <th></th>\n",
              "      <th></th>\n",
              "      <th></th>\n",
              "      <th></th>\n",
              "      <th></th>\n",
              "      <th></th>\n",
              "      <th></th>\n",
              "    </tr>\n",
              "  </thead>\n",
              "  <tbody>\n",
              "    <tr>\n",
              "      <th>No</th>\n",
              "      <td>19525.0</td>\n",
              "      <td>2016.927836</td>\n",
              "      <td>0.834101</td>\n",
              "      <td>2016.0</td>\n",
              "      <td>2016.0</td>\n",
              "      <td>2017.0</td>\n",
              "      <td>2018.0</td>\n",
              "      <td>2018.0</td>\n",
              "      <td>19525.0</td>\n",
              "      <td>3.599742</td>\n",
              "      <td>2.086659</td>\n",
              "      <td>0.0</td>\n",
              "      <td>2.0</td>\n",
              "      <td>3.0</td>\n",
              "      <td>5.0</td>\n",
              "      <td>9.0</td>\n",
              "      <td>19525.0</td>\n",
              "      <td>38.178761</td>\n",
              "      <td>16.081290</td>\n",
              "      <td>16.0</td>\n",
              "      <td>25.0</td>\n",
              "      <td>35.0</td>\n",
              "      <td>49.0</td>\n",
              "      <td>83.0</td>\n",
              "    </tr>\n",
              "    <tr>\n",
              "      <th>Yes</th>\n",
              "      <td>3239.0</td>\n",
              "      <td>2017.208398</td>\n",
              "      <td>0.878388</td>\n",
              "      <td>2016.0</td>\n",
              "      <td>2016.0</td>\n",
              "      <td>2018.0</td>\n",
              "      <td>2018.0</td>\n",
              "      <td>2018.0</td>\n",
              "      <td>3239.0</td>\n",
              "      <td>3.459318</td>\n",
              "      <td>2.033814</td>\n",
              "      <td>0.0</td>\n",
              "      <td>2.0</td>\n",
              "      <td>3.0</td>\n",
              "      <td>5.0</td>\n",
              "      <td>9.0</td>\n",
              "      <td>3239.0</td>\n",
              "      <td>39.336940</td>\n",
              "      <td>13.935645</td>\n",
              "      <td>16.0</td>\n",
              "      <td>29.0</td>\n",
              "      <td>36.0</td>\n",
              "      <td>47.0</td>\n",
              "      <td>83.0</td>\n",
              "    </tr>\n",
              "  </tbody>\n",
              "</table>\n",
              "</div>"
            ],
            "text/plain": [
              "                       year                         ... respondent_age            \n",
              "                      count         mean       std  ...            50%   75%   max\n",
              "has_a_bank_account                                  ...                           \n",
              "No                  19525.0  2016.927836  0.834101  ...           35.0  49.0  83.0\n",
              "Yes                  3239.0  2017.208398  0.878388  ...           36.0  47.0  83.0\n",
              "\n",
              "[2 rows x 24 columns]"
            ]
          },
          "metadata": {
            "tags": []
          },
          "execution_count": 307
        }
      ]
    },
    {
      "cell_type": "code",
      "metadata": {
        "colab": {
          "base_uri": "https://localhost:8080/",
          "height": 270
        },
        "id": "rIbOPizgKmHn",
        "outputId": "5d824494-55ae-4e55-fa9f-f2e1e97ea371"
      },
      "source": [
        "# Correlation matrix heatmap for the quantitative variables\r\n",
        "\r\n",
        "sns.heatmap(financial_out.corr(),annot=True)\r\n",
        "plt.show()"
      ],
      "execution_count": 308,
      "outputs": [
        {
          "output_type": "display_data",
          "data": {
            "image/png": "[encoded data removed]",
            "text/plain": [
              "<Figure size 432x288 with 2 Axes>"
            ]
          },
          "metadata": {
            "tags": [],
            "needs_background": "light"
          }
        }
      ]
    },
    {
      "cell_type": "code",
      "metadata": {
        "colab": {
          "base_uri": "https://localhost:8080/"
        },
        "id": "d8Ln7lwoTN-X",
        "outputId": "5fc93984-a197-4af6-cbcd-dc9ad66b7806"
      },
      "source": [
        "# Hypothesis testing for the difference between the mean of household size of Kenya and Rwanda\r\n",
        "\r\n",
        "\r\n",
        "# Null hypothesis: mean of household size of the two groups is equal\r\n",
        "# Alternative hypothesis: mean of household size of the two groups is not equal\r\n",
        "\r\n",
        "rwanda = financial_out.loc[financial_out['country'] == 'Rwanda']\r\n",
        "kenya = financial_out.loc[financial_out['country'] == 'Kenya']\r\n",
        "\r\n",
        "from scipy import stats\r\n",
        "from statsmodels.stats import weightstats as stests\r\n",
        "\r\n",
        "ztest ,pval = stests.ztest(rwanda['household_size'], x2=kenya['household_size'], value=0,alternative='two-sided')\r\n",
        "print(float(pval))\r\n",
        "if pval<0.05:\r\n",
        "    print(\"reject null hypothesis\")\r\n",
        "else:\r\n",
        "    print(\"accept null hypothesis\")\r\n",
        "\r\n",
        "\r\n",
        "# The p value is < 0.05. Hence the null hypothesis is rejected and conclude that there\r\n",
        "# is a difference in means of household sizes in Rwanda and Kenya."
      ],
      "execution_count": 310,
      "outputs": [
        {
          "output_type": "stream",
          "text": [
            "4.453523703147315e-61\n",
            "reject null hypothesis\n"
          ],
          "name": "stdout"
        }
      ]
    },
    {
      "cell_type": "markdown",
      "metadata": {
        "id": "s_gJ3GFSKhC5"
      },
      "source": [
        "### Recommendations for effectively performing bivariate analysis while working on the current problem."
      ]
    },
    {
      "cell_type": "markdown",
      "metadata": {
        "id": "C0fKBIm2KqGL"
      },
      "source": [
        "> Since the main objective is to determine how and which variables affect whether or not an individual owns a bank account, the bivariate analysis should be done on each variable versus the 'has a bank account' column. \r\n",
        "This approach will provide the greatest insights that are relevant to answering our analysis question while also saving on time."
      ]
    },
    {
      "cell_type": "markdown",
      "metadata": {
        "id": "b5-YZnzxLfov"
      },
      "source": [
        "### c) Multivariate analysis"
      ]
    },
    {
      "cell_type": "markdown",
      "metadata": {
        "id": "E6Un-CvLgg6H"
      },
      "source": [
        "> Multivariate analysis using Principal Component analysis as a dimensinality reduction tool"
      ]
    },
    {
      "cell_type": "code",
      "metadata": {
        "colab": {
          "base_uri": "https://localhost:8080/",
          "height": 215
        },
        "id": "PfQ_cfiIgc4y",
        "outputId": "639b75b5-7e07-4945-9bce-d1d53ffb80f0"
      },
      "source": [
        "# Encoding the categorical variables\r\n",
        "\r\n",
        "from sklearn.preprocessing import LabelEncoder\r\n",
        "\r\n",
        "cols = ['country','type_of_location', 'has_a_bank_account', 'cell_phone_access', 'gender_of_respondent', 'the_relathip_with_head', 'marital_status',\r\n",
        "       'level_of_educuation', 'type_of_job'  ]\r\n",
        "#\r\n",
        "# Encode labels of multiple columns at once\r\n",
        "#\r\n",
        "financial_out[cols]= financial_out[cols].apply(LabelEncoder().fit_transform)\r\n",
        "#\r\n",
        "# Print head\r\n",
        "#\r\n",
        "financial_out.head()"
      ],
      "execution_count": 311,
      "outputs": [
        {
          "output_type": "execute_result",
          "data": {
            "text/html": [
              "<div>\n",
              "<style scoped>\n",
              "    .dataframe tbody tr th:only-of-type {\n",
              "        vertical-align: middle;\n",
              "    }\n",
              "\n",
              "    .dataframe tbody tr th {\n",
              "        vertical-align: top;\n",
              "    }\n",
              "\n",
              "    .dataframe thead th {\n",
              "        text-align: right;\n",
              "    }\n",
              "</style>\n",
              "<table border=\"1\" class=\"dataframe\">\n",
              "  <thead>\n",
              "    <tr style=\"text-align: right;\">\n",
              "      <th></th>\n",
              "      <th>country</th>\n",
              "      <th>year</th>\n",
              "      <th>has_a_bank_account</th>\n",
              "      <th>type_of_location</th>\n",
              "      <th>cell_phone_access</th>\n",
              "      <th>household_size</th>\n",
              "      <th>respondent_age</th>\n",
              "      <th>gender_of_respondent</th>\n",
              "      <th>the_relathip_with_head</th>\n",
              "      <th>marital_status</th>\n",
              "      <th>level_of_educuation</th>\n",
              "      <th>type_of_job</th>\n",
              "    </tr>\n",
              "  </thead>\n",
              "  <tbody>\n",
              "    <tr>\n",
              "      <th>0</th>\n",
              "      <td>0</td>\n",
              "      <td>2018</td>\n",
              "      <td>1</td>\n",
              "      <td>0</td>\n",
              "      <td>1</td>\n",
              "      <td>3.0</td>\n",
              "      <td>24.0</td>\n",
              "      <td>0</td>\n",
              "      <td>5</td>\n",
              "      <td>2</td>\n",
              "      <td>3</td>\n",
              "      <td>9</td>\n",
              "    </tr>\n",
              "    <tr>\n",
              "      <th>1</th>\n",
              "      <td>0</td>\n",
              "      <td>2018</td>\n",
              "      <td>0</td>\n",
              "      <td>0</td>\n",
              "      <td>0</td>\n",
              "      <td>5.0</td>\n",
              "      <td>70.0</td>\n",
              "      <td>0</td>\n",
              "      <td>1</td>\n",
              "      <td>4</td>\n",
              "      <td>0</td>\n",
              "      <td>4</td>\n",
              "    </tr>\n",
              "    <tr>\n",
              "      <th>2</th>\n",
              "      <td>0</td>\n",
              "      <td>2018</td>\n",
              "      <td>1</td>\n",
              "      <td>1</td>\n",
              "      <td>1</td>\n",
              "      <td>5.0</td>\n",
              "      <td>26.0</td>\n",
              "      <td>1</td>\n",
              "      <td>3</td>\n",
              "      <td>3</td>\n",
              "      <td>5</td>\n",
              "      <td>9</td>\n",
              "    </tr>\n",
              "    <tr>\n",
              "      <th>3</th>\n",
              "      <td>0</td>\n",
              "      <td>2018</td>\n",
              "      <td>0</td>\n",
              "      <td>0</td>\n",
              "      <td>1</td>\n",
              "      <td>5.0</td>\n",
              "      <td>34.0</td>\n",
              "      <td>0</td>\n",
              "      <td>1</td>\n",
              "      <td>2</td>\n",
              "      <td>2</td>\n",
              "      <td>3</td>\n",
              "    </tr>\n",
              "    <tr>\n",
              "      <th>4</th>\n",
              "      <td>0</td>\n",
              "      <td>2018</td>\n",
              "      <td>0</td>\n",
              "      <td>1</td>\n",
              "      <td>0</td>\n",
              "      <td>8.0</td>\n",
              "      <td>26.0</td>\n",
              "      <td>1</td>\n",
              "      <td>0</td>\n",
              "      <td>3</td>\n",
              "      <td>2</td>\n",
              "      <td>5</td>\n",
              "    </tr>\n",
              "  </tbody>\n",
              "</table>\n",
              "</div>"
            ],
            "text/plain": [
              "   country  year  ...  level_of_educuation  type_of_job\n",
              "0        0  2018  ...                    3            9\n",
              "1        0  2018  ...                    0            4\n",
              "2        0  2018  ...                    5            9\n",
              "3        0  2018  ...                    2            3\n",
              "4        0  2018  ...                    2            5\n",
              "\n",
              "[5 rows x 12 columns]"
            ]
          },
          "metadata": {
            "tags": []
          },
          "execution_count": 311
        }
      ]
    },
    {
      "cell_type": "code",
      "metadata": {
        "id": "Qnxmv8cMpOpZ"
      },
      "source": [
        "# Step 1: Preprocessing\r\n",
        "\r\n",
        "X = financial_out.drop('year', 1)\r\n",
        "y = financial_out['cell_phone_access']"
      ],
      "execution_count": 312,
      "outputs": []
    },
    {
      "cell_type": "code",
      "metadata": {
        "id": "om0Xsj2utJs1"
      },
      "source": [
        "# Step 2: Splitting the dataset into the Training set and Test set\r\n",
        "\r\n",
        "from sklearn.model_selection import train_test_split\r\n",
        "\r\n",
        "X_train, X_test, y_train, y_test = train_test_split(X, y, test_size=0.2, random_state=0)"
      ],
      "execution_count": 313,
      "outputs": []
    },
    {
      "cell_type": "code",
      "metadata": {
        "id": "KFmy-XWXtWc1"
      },
      "source": [
        "# Step 3: Normalization\r\n",
        "\r\n",
        "from sklearn.preprocessing import StandardScaler\r\n",
        "\r\n",
        "sc = StandardScaler()\r\n",
        "X_train = sc.fit_transform(X_train)\r\n",
        "X_test = sc.transform(X_test)"
      ],
      "execution_count": 314,
      "outputs": []
    },
    {
      "cell_type": "code",
      "metadata": {
        "id": "iZ_J5GAhtfLO"
      },
      "source": [
        "# Step 4: Applying PCA\r\n",
        "\r\n",
        "from sklearn.decomposition import PCA\r\n",
        "\r\n",
        "pca = PCA()\r\n",
        "X_train = pca.fit_transform(X_train)\r\n",
        "X_test = pca.transform(X_test)"
      ],
      "execution_count": 315,
      "outputs": []
    },
    {
      "cell_type": "code",
      "metadata": {
        "colab": {
          "base_uri": "https://localhost:8080/"
        },
        "id": "jQBVFs_2tmOI",
        "outputId": "9ea42b3f-b52c-41ea-f24b-3768df1d7d3b"
      },
      "source": [
        "# Step 5: Explained Variance Ratio\r\n",
        "\r\n",
        "explained_variance = pca.explained_variance_ratio_\r\n",
        "\r\n",
        "# It can be seen that first principal component is responsible for 17.95% variance. \r\n",
        "# Similarly, the second principal component causes 15.77% variance in the dataset. \r\n",
        "# 58.15 percent(17.95% + 15.77% + 14.21% + 10.35%) of the classification information contained \r\n",
        "# in the feature set is captured by the first four principal components.\r\n",
        "explained_variance"
      ],
      "execution_count": 316,
      "outputs": [
        {
          "output_type": "execute_result",
          "data": {
            "text/plain": [
              "array([0.17947754, 0.15769835, 0.14211466, 0.10357704, 0.07821357,\n",
              "       0.07427197, 0.06710606, 0.06308533, 0.04983681, 0.0452944 ,\n",
              "       0.03932427])"
            ]
          },
          "metadata": {
            "tags": []
          },
          "execution_count": 316
        }
      ]
    },
    {
      "cell_type": "code",
      "metadata": {
        "id": "qF3mzqG6u7Yx"
      },
      "source": [
        "# Step 6: Using 1 principal component to train our algorithm.\r\n",
        "\r\n",
        "from sklearn.decomposition import PCA\r\n",
        "\r\n",
        "pca = PCA(n_components=1)\r\n",
        "X_train = pca.fit_transform(X_train)\r\n",
        "X_test = pca.transform(X_test)"
      ],
      "execution_count": 317,
      "outputs": []
    },
    {
      "cell_type": "code",
      "metadata": {
        "id": "u8CBerMDvYz6"
      },
      "source": [
        "# Step 7: Training and Making Predictions\r\n",
        "\r\n",
        "from sklearn.ensemble import RandomForestClassifier\r\n",
        "\r\n",
        "classifier = RandomForestClassifier(max_depth=2, random_state=0)\r\n",
        "classifier.fit(X_train, y_train)\r\n",
        "\r\n",
        "# Predicting the Test set results\r\n",
        "y_pred = classifier.predict(X_test)"
      ],
      "execution_count": 318,
      "outputs": []
    },
    {
      "cell_type": "code",
      "metadata": {
        "colab": {
          "base_uri": "https://localhost:8080/"
        },
        "id": "PIvOP6VTvgg1",
        "outputId": "a39f51ed-76cd-429d-bd6d-40473058ebf3"
      },
      "source": [
        "# Step 8: Performance Evaluation\r\n",
        "# \r\n",
        "from sklearn.metrics import confusion_matrix\r\n",
        "from sklearn.metrics import accuracy_score\r\n",
        "\r\n",
        "cm = confusion_matrix(y_test, y_pred)\r\n",
        "print(cm)\r\n",
        "print('Accuracy' , accuracy_score(y_test, y_pred))\r\n",
        "\r\n",
        "# The output with only one component resulted in 82.0% accuracy"
      ],
      "execution_count": 319,
      "outputs": [
        {
          "output_type": "stream",
          "text": [
            "[[ 337  782]\n",
            " [  37 3397]]\n",
            "Accuracy 0.8201186031188228\n"
          ],
          "name": "stdout"
        }
      ]
    },
    {
      "cell_type": "code",
      "metadata": {
        "colab": {
          "base_uri": "https://localhost:8080/"
        },
        "id": "_ie3U6Vqv9vj",
        "outputId": "cdb164b7-2888-4395-f9ad-08bb2f957c1f"
      },
      "source": [
        "# Step 9: Results with 2 principal components\r\n",
        "\r\n",
        "# Preprocessing\r\n",
        "\r\n",
        "X = financial_out.drop('year', 1)\r\n",
        "y = financial_out['cell_phone_access']\r\n",
        "\r\n",
        "# Splitting the dataset into the Training set and Test set\r\n",
        "\r\n",
        "from sklearn.model_selection import train_test_split\r\n",
        "\r\n",
        "X_train, X_test, y_train, y_test = train_test_split(X, y, test_size=0.2, random_state=0)\r\n",
        "\r\n",
        "# Normalization\r\n",
        "\r\n",
        "from sklearn.preprocessing import StandardScaler\r\n",
        "\r\n",
        "sc = StandardScaler()\r\n",
        "X_train = sc.fit_transform(X_train)\r\n",
        "X_test = sc.transform(X_test)\r\n",
        "\r\n",
        "# Applying PCA\r\n",
        "\r\n",
        "from sklearn.decomposition import PCA\r\n",
        "\r\n",
        "pca = PCA()\r\n",
        "X_train = pca.fit_transform(X_train)\r\n",
        "X_test = pca.transform(X_test)\r\n",
        "\r\n",
        "# Explained Variance Ratio\r\n",
        "\r\n",
        "explained_variance = pca.explained_variance_ratio_\r\n",
        "\r\n",
        "explained_variance\r\n",
        "\r\n",
        "# Using 2 principal components to train our algorithm.\r\n",
        "\r\n",
        "from sklearn.decomposition import PCA\r\n",
        "\r\n",
        "pca = PCA(n_components=2)\r\n",
        "X_train = pca.fit_transform(X_train)\r\n",
        "X_test = pca.transform(X_test)\r\n",
        "\r\n",
        "# Training and Making Predictions\r\n",
        "\r\n",
        "from sklearn.ensemble import RandomForestClassifier\r\n",
        "\r\n",
        "classifier = RandomForestClassifier(max_depth=2, random_state=0)\r\n",
        "classifier.fit(X_train, y_train)\r\n",
        "\r\n",
        "# Predicting the Test set results\r\n",
        "y_pred = classifier.predict(X_test)\r\n",
        "\r\n",
        "# Performance Evaluation \r\n",
        "from sklearn.metrics import confusion_matrix\r\n",
        "from sklearn.metrics import accuracy_score\r\n",
        "\r\n",
        "cm = confusion_matrix(y_test, y_pred)\r\n",
        "print(cm)\r\n",
        "print('Accuracy' , accuracy_score(y_test, y_pred))\r\n",
        "\r\n",
        "# The output with 2 components resulted in 82.2% accuracy as compared\r\n",
        "# to the 82.0% accuracy under 1 component"
      ],
      "execution_count": 320,
      "outputs": [
        {
          "output_type": "stream",
          "text": [
            "[[ 345  774]\n",
            " [  36 3398]]\n",
            "Accuracy 0.8220953217658686\n"
          ],
          "name": "stdout"
        }
      ]
    },
    {
      "cell_type": "code",
      "metadata": {
        "colab": {
          "base_uri": "https://localhost:8080/"
        },
        "id": "dRjb4ZwLy52t",
        "outputId": "2209fb8c-bb73-4e85-e60f-1cd75af23c13"
      },
      "source": [
        "# Step 10: Results with 4 principal components\r\n",
        "\r\n",
        "# Preprocessing\r\n",
        "\r\n",
        "X = financial_out.drop('year', 1)\r\n",
        "y = financial_out['cell_phone_access']\r\n",
        "\r\n",
        "# Splitting the dataset into the Training set and Test set\r\n",
        "\r\n",
        "from sklearn.model_selection import train_test_split\r\n",
        "\r\n",
        "X_train, X_test, y_train, y_test = train_test_split(X, y, test_size=0.2, random_state=0)\r\n",
        "\r\n",
        "# Normalization\r\n",
        "\r\n",
        "from sklearn.preprocessing import StandardScaler\r\n",
        "\r\n",
        "sc = StandardScaler()\r\n",
        "X_train = sc.fit_transform(X_train)\r\n",
        "X_test = sc.transform(X_test)\r\n",
        "\r\n",
        "# Applying PCA\r\n",
        "\r\n",
        "from sklearn.decomposition import PCA\r\n",
        "\r\n",
        "pca = PCA()\r\n",
        "X_train = pca.fit_transform(X_train)\r\n",
        "X_test = pca.transform(X_test)\r\n",
        "\r\n",
        "# Explained Variance Ratio\r\n",
        "\r\n",
        "explained_variance = pca.explained_variance_ratio_\r\n",
        "\r\n",
        "explained_variance\r\n",
        "\r\n",
        "# Using 4 principal components to train our algorithm.\r\n",
        "\r\n",
        "from sklearn.decomposition import PCA\r\n",
        "\r\n",
        "pca = PCA(n_components=4)\r\n",
        "X_train = pca.fit_transform(X_train)\r\n",
        "X_test = pca.transform(X_test)\r\n",
        "\r\n",
        "# Training and Making Predictions\r\n",
        "\r\n",
        "from sklearn.ensemble import RandomForestClassifier\r\n",
        "\r\n",
        "classifier = RandomForestClassifier(max_depth=2, random_state=0)\r\n",
        "classifier.fit(X_train, y_train)\r\n",
        "\r\n",
        "# Predicting the Test set results\r\n",
        "y_pred = classifier.predict(X_test)\r\n",
        "\r\n",
        "# Performance Evaluation \r\n",
        "from sklearn.metrics import confusion_matrix\r\n",
        "from sklearn.metrics import accuracy_score\r\n",
        "\r\n",
        "cm = confusion_matrix(y_test, y_pred)\r\n",
        "print(cm)\r\n",
        "print('Accuracy' , accuracy_score(y_test, y_pred))\r\n",
        "\r\n",
        "# The output with 4 components resulted in 82.5% accuracy as compared\r\n",
        "# to the 82.2% accuracy under 2 components"
      ],
      "execution_count": 321,
      "outputs": [
        {
          "output_type": "stream",
          "text": [
            "[[ 354  765]\n",
            " [  34 3400]]\n",
            "Accuracy 0.8245113112233692\n"
          ],
          "name": "stdout"
        }
      ]
    },
    {
      "cell_type": "code",
      "metadata": {
        "colab": {
          "base_uri": "https://localhost:8080/"
        },
        "id": "1r9u96wDzuWp",
        "outputId": "fd9fd7c1-98f4-4f2b-e4c4-de813d813038"
      },
      "source": [
        "# Step 11: Results with 5 principal components\r\n",
        "\r\n",
        "# Preprocessing\r\n",
        "\r\n",
        "X = financial_out.drop('year', 1)\r\n",
        "y = financial_out['cell_phone_access']\r\n",
        "\r\n",
        "# Splitting the dataset into the Training set and Test set\r\n",
        "\r\n",
        "from sklearn.model_selection import train_test_split\r\n",
        "\r\n",
        "X_train, X_test, y_train, y_test = train_test_split(X, y, test_size=0.2, random_state=0)\r\n",
        "\r\n",
        "# Normalization\r\n",
        "\r\n",
        "from sklearn.preprocessing import StandardScaler\r\n",
        "\r\n",
        "sc = StandardScaler()\r\n",
        "X_train = sc.fit_transform(X_train)\r\n",
        "X_test = sc.transform(X_test)\r\n",
        "\r\n",
        "# Applying PCA\r\n",
        "\r\n",
        "from sklearn.decomposition import PCA\r\n",
        "\r\n",
        "pca = PCA()\r\n",
        "X_train = pca.fit_transform(X_train)\r\n",
        "X_test = pca.transform(X_test)\r\n",
        "\r\n",
        "# Explained Variance Ratio\r\n",
        "\r\n",
        "explained_variance = pca.explained_variance_ratio_\r\n",
        "\r\n",
        "explained_variance\r\n",
        "\r\n",
        "# Using 5 principal components to train our algorithm.\r\n",
        "\r\n",
        "from sklearn.decomposition import PCA\r\n",
        "\r\n",
        "pca = PCA(n_components=5)\r\n",
        "X_train = pca.fit_transform(X_train)\r\n",
        "X_test = pca.transform(X_test)\r\n",
        "\r\n",
        "# Training and Making Predictions\r\n",
        "\r\n",
        "from sklearn.ensemble import RandomForestClassifier\r\n",
        "\r\n",
        "classifier = RandomForestClassifier(max_depth=2, random_state=0)\r\n",
        "classifier.fit(X_train, y_train)\r\n",
        "\r\n",
        "# Predicting the Test set results\r\n",
        "y_pred = classifier.predict(X_test)\r\n",
        "\r\n",
        "# Performance Evaluation \r\n",
        "from sklearn.metrics import confusion_matrix\r\n",
        "from sklearn.metrics import accuracy_score\r\n",
        "\r\n",
        "cm = confusion_matrix(y_test, y_pred)\r\n",
        "print(cm)\r\n",
        "print('Accuracy' , accuracy_score(y_test, y_pred))\r\n",
        "\r\n",
        "# The output with 5 components resulted in 82.40% accuracy as compared\r\n",
        "# to the 82.5% accuracy under 4 components"
      ],
      "execution_count": 322,
      "outputs": [
        {
          "output_type": "stream",
          "text": [
            "[[ 350  769]\n",
            " [  32 3402]]\n",
            "Accuracy 0.8240720404129146\n"
          ],
          "name": "stdout"
        }
      ]
    },
    {
      "cell_type": "markdown",
      "metadata": {
        "id": "bQa2JSpeOKIh"
      },
      "source": [
        "### Recommendations for effectively performing multivariate analysis while working on the current problem."
      ]
    },
    {
      "cell_type": "markdown",
      "metadata": {
        "id": "tGDxENnQOh0r"
      },
      "source": [
        "> In order to build an accurate model, the dimensions of the dataset should be reduced. Factor Analysis, Linear Discriminant Analysis and Principal component analysis can be used to do this. These three techniques will help us determine which variables with be most important in order to build our model later."
      ]
    },
    {
      "cell_type": "markdown",
      "metadata": {
        "id": "ABlrvTx4LlUq"
      },
      "source": [
        "## 8. Implementing the solution"
      ]
    },
    {
      "cell_type": "code",
      "metadata": {
        "colab": {
          "base_uri": "https://localhost:8080/",
          "height": 279
        },
        "id": "EurhjL8g2Yk9",
        "outputId": "7589eab3-cbe7-4302-a887-fb7b05de4fd5"
      },
      "source": [
        "# Scree plot of cumulative explained variance vs number of components. \r\n",
        "\r\n",
        "#Explained variance\r\n",
        "pca = PCA().fit(X_train)\r\n",
        "plt.plot(np.cumsum(pca.explained_variance_ratio_))\r\n",
        "plt.xlabel('number of components')\r\n",
        "plt.ylabel('cumulative explained variance')\r\n",
        "plt.show()\r\n",
        "\r\n",
        "# As the number of components increases the cumulative explained variance increases and\r\n",
        "# so does accuracy The optimal number of principal components is four according to the scree plot.\r\n",
        "# The features in those principal components will explain the dependent variable the best."
      ],
      "execution_count": 323,
      "outputs": [
        {
          "output_type": "display_data",
          "data": {
            "image/png": "[encoded data removed]",
            "text/plain": [
              "<Figure size 432x288 with 1 Axes>"
            ]
          },
          "metadata": {
            "tags": [],
            "needs_background": "light"
          }
        }
      ]
    },
    {
      "cell_type": "markdown",
      "metadata": {
        "id": "wnFGcfJ7LyEp"
      },
      "source": [
        "## 9. Challenging the solution"
      ]
    },
    {
      "cell_type": "markdown",
      "metadata": {
        "id": "pHM1tp5wAJsb"
      },
      "source": [
        "> The question that I formulated was simple but to the point. One major improvement I would have made is to build a logistic regression model to determine the impact of the features on bank account ownership. \r\n",
        "This would come a long way in giving clear insights on the financial inclusion issue at hand in East Africa."
      ]
    },
    {
      "cell_type": "markdown",
      "metadata": {
        "id": "bFCzUtTtL5A7"
      },
      "source": [
        "## 10. Follow-up questions"
      ]
    },
    {
      "cell_type": "markdown",
      "metadata": {
        "id": "iaO1gv3QMHwe"
      },
      "source": [
        "### a) Did I have the right data?"
      ]
    },
    {
      "cell_type": "markdown",
      "metadata": {
        "id": "dMH_Xh2U9nQa"
      },
      "source": [
        "> The data I used was relevant to my analysis. However, there may have been more variables that could have contributed to the robustness of the analysis. Moreover, data should have been provided for the same year across the four countries. Mixing the years would not enable one to implement the solution correctly."
      ]
    },
    {
      "cell_type": "markdown",
      "metadata": {
        "id": "YHIVvNP6MQ9V"
      },
      "source": [
        "### b) Did I need other data to answer the question?"
      ]
    },
    {
      "cell_type": "markdown",
      "metadata": {
        "id": "nuXHTnI_75pB"
      },
      "source": [
        "> Yes. I needed more data on Kenya, Tanzania, Uganda and Rwanda for all the years 2016 - 2018. This would have helped me implement the solution more accurately. The solution given may have been biased because the data was recorded in different years for the 4 countries "
      ]
    },
    {
      "cell_type": "markdown",
      "metadata": {
        "id": "IT78ZbI8MZ4k"
      },
      "source": [
        "### c) Did I have the right question?"
      ]
    },
    {
      "cell_type": "markdown",
      "metadata": {
        "id": "xeqC7H3L65Nn"
      },
      "source": [
        "> I had the right question but was not able to build a model that could determine which variables are of the most importance and to what degree. This is beacause I did not have the techiniques (machine learning) to answer the question exhaustively. "
      ]
    }
  ]
}